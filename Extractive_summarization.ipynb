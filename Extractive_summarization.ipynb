{
  "nbformat": 4,
  "nbformat_minor": 0,
  "metadata": {
    "colab": {
      "name": "Projet-L3-BFTAL2 PEREIRA Cindy Résumé Extractif",
      "provenance": [],
      "collapsed_sections": [],
      "toc_visible": true
    },
    "kernelspec": {
      "name": "python3",
      "display_name": "Python 3"
    }
  },
  "cells": [
    {
      "cell_type": "markdown",
      "metadata": {
        "id": "gspjPrcoERKm"
      },
      "source": [
        "# Projet TextRank\n",
        "**Avant toute chose, assurez vous de copier ce notebook et de travailler uniquement sur votre copie personnelle**"
      ]
    },
    {
      "cell_type": "markdown",
      "metadata": {
        "id": "or5sIbeiVbvu"
      },
      "source": [
        "Préambule\n",
        "---------"
      ]
    },
    {
      "cell_type": "markdown",
      "metadata": {
        "id": "87vpAdB8HMtm"
      },
      "source": [
        "Ce préambule télécharge le dictionnaire word2vec qui associe des mots (`str`) à des vecteurs (`np.array `de taille 200)\n",
        "Il télécharge aussi le corpus de travail pour ce TP qui est issu de wikipedia\n",
        "\n"
      ]
    },
    {
      "cell_type": "code",
      "metadata": {
        "id": "5EkxKb0_NsQc",
        "colab": {
          "base_uri": "https://localhost:8080/",
          "height": 367
        },
        "outputId": "c62d2f75-3d1e-4f2d-863b-bc61ce2e0896"
      },
      "source": [
        "#INIT notebook\n",
        "!pip install gensim\n",
        "\n",
        "import os\n",
        "from gensim.models import KeyedVectors\n",
        "from urllib.request import urlretrieve\n",
        "\n",
        "#Download word vectors if needed (this may take time)\n",
        "if 'frw2v.bin' not in os.listdir():\n",
        "  urlretrieve('http://embeddings.net/frWac_non_lem_no_postag_no_phrase_200_cbow_cut100.bin','frw2v.bin')\n",
        "w2v = KeyedVectors.load_word2vec_format(\"frw2v.bin\",binary=True)"
      ],
      "execution_count": null,
      "outputs": [
        {
          "output_type": "stream",
          "text": [
            "Requirement already satisfied: gensim in /usr/local/lib/python3.6/dist-packages (3.6.0)\n",
            "Requirement already satisfied: smart-open>=1.2.1 in /usr/local/lib/python3.6/dist-packages (from gensim) (2.0.0)\n",
            "Requirement already satisfied: numpy>=1.11.3 in /usr/local/lib/python3.6/dist-packages (from gensim) (1.18.4)\n",
            "Requirement already satisfied: scipy>=0.18.1 in /usr/local/lib/python3.6/dist-packages (from gensim) (1.4.1)\n",
            "Requirement already satisfied: six>=1.5.0 in /usr/local/lib/python3.6/dist-packages (from gensim) (1.12.0)\n",
            "Requirement already satisfied: boto in /usr/local/lib/python3.6/dist-packages (from smart-open>=1.2.1->gensim) (2.49.0)\n",
            "Requirement already satisfied: boto3 in /usr/local/lib/python3.6/dist-packages (from smart-open>=1.2.1->gensim) (1.13.19)\n",
            "Requirement already satisfied: requests in /usr/local/lib/python3.6/dist-packages (from smart-open>=1.2.1->gensim) (2.23.0)\n",
            "Requirement already satisfied: jmespath<1.0.0,>=0.7.1 in /usr/local/lib/python3.6/dist-packages (from boto3->smart-open>=1.2.1->gensim) (0.10.0)\n",
            "Requirement already satisfied: s3transfer<0.4.0,>=0.3.0 in /usr/local/lib/python3.6/dist-packages (from boto3->smart-open>=1.2.1->gensim) (0.3.3)\n",
            "Requirement already satisfied: botocore<1.17.0,>=1.16.19 in /usr/local/lib/python3.6/dist-packages (from boto3->smart-open>=1.2.1->gensim) (1.16.19)\n",
            "Requirement already satisfied: idna<3,>=2.5 in /usr/local/lib/python3.6/dist-packages (from requests->smart-open>=1.2.1->gensim) (2.9)\n",
            "Requirement already satisfied: chardet<4,>=3.0.2 in /usr/local/lib/python3.6/dist-packages (from requests->smart-open>=1.2.1->gensim) (3.0.4)\n",
            "Requirement already satisfied: certifi>=2017.4.17 in /usr/local/lib/python3.6/dist-packages (from requests->smart-open>=1.2.1->gensim) (2020.4.5.1)\n",
            "Requirement already satisfied: urllib3!=1.25.0,!=1.25.1,<1.26,>=1.21.1 in /usr/local/lib/python3.6/dist-packages (from requests->smart-open>=1.2.1->gensim) (1.24.3)\n",
            "Requirement already satisfied: python-dateutil<3.0.0,>=2.1 in /usr/local/lib/python3.6/dist-packages (from botocore<1.17.0,>=1.16.19->boto3->smart-open>=1.2.1->gensim) (2.8.1)\n",
            "Requirement already satisfied: docutils<0.16,>=0.10 in /usr/local/lib/python3.6/dist-packages (from botocore<1.17.0,>=1.16.19->boto3->smart-open>=1.2.1->gensim) (0.15.2)\n"
          ],
          "name": "stdout"
        },
        {
          "output_type": "stream",
          "text": [
            "/usr/local/lib/python3.6/dist-packages/smart_open/smart_open_lib.py:253: UserWarning: This function is deprecated, use smart_open.open instead. See the migration notes for details: https://github.com/RaRe-Technologies/smart_open/blob/master/README.rst#migrating-to-the-new-open-function\n",
            "  'See the migration notes for details: %s' % _MIGRATION_NOTES_URL\n"
          ],
          "name": "stderr"
        }
      ]
    },
    {
      "cell_type": "code",
      "metadata": {
        "id": "VFi1Dg5SMPPs",
        "colab": {
          "base_uri": "https://localhost:8080/",
          "height": 139
        },
        "outputId": "7269b5fc-fa15-4532-f40e-991a7dd90800"
      },
      "source": [
        "#Téléchargement du corpus wikipedia\n",
        "!pip install wikipedia\n",
        "import wikipedia\n",
        "\n",
        "wikipedia.set_lang('fr')\n",
        "\n",
        "writers = ['Corneille',\"Racine\",'Hugo','Flaubert','Balzac','Zola','Baudelaire','Rimbaud','Verlaine']\n",
        "corpus  = [ wikipedia.summary(auteur) for auteur in writers ]\n"
      ],
      "execution_count": null,
      "outputs": [
        {
          "output_type": "stream",
          "text": [
            "Requirement already satisfied: wikipedia in /usr/local/lib/python3.6/dist-packages (1.4.0)\n",
            "Requirement already satisfied: beautifulsoup4 in /usr/local/lib/python3.6/dist-packages (from wikipedia) (4.6.3)\n",
            "Requirement already satisfied: requests<3.0.0,>=2.0.0 in /usr/local/lib/python3.6/dist-packages (from wikipedia) (2.23.0)\n",
            "Requirement already satisfied: urllib3!=1.25.0,!=1.25.1,<1.26,>=1.21.1 in /usr/local/lib/python3.6/dist-packages (from requests<3.0.0,>=2.0.0->wikipedia) (1.24.3)\n",
            "Requirement already satisfied: idna<3,>=2.5 in /usr/local/lib/python3.6/dist-packages (from requests<3.0.0,>=2.0.0->wikipedia) (2.9)\n",
            "Requirement already satisfied: chardet<4,>=3.0.2 in /usr/local/lib/python3.6/dist-packages (from requests<3.0.0,>=2.0.0->wikipedia) (3.0.4)\n",
            "Requirement already satisfied: certifi>=2017.4.17 in /usr/local/lib/python3.6/dist-packages (from requests<3.0.0,>=2.0.0->wikipedia) (2020.4.5.1)\n"
          ],
          "name": "stdout"
        }
      ]
    },
    {
      "cell_type": "markdown",
      "metadata": {
        "id": "_4Twbv5MdkZ0"
      },
      "source": [
        "A ce stade, la liste `corpus` contient les textes, le dictionnaire `w2v` associe des mots à des vecteurs de taille 100."
      ]
    },
    {
      "cell_type": "markdown",
      "metadata": {
        "id": "cCNYlM-cdxTD"
      },
      "source": [
        "Premier exercice: segmentation en phrases et en mots\n",
        "---------------\n",
        "\n",
        "Définir une fonction qui découpe un texte en phrases et qui renvoie une liste de phrases.\n",
        "Définir une autre fonction qui découpe une phrase en mots. Celle-ci renvoie une liste de mots"
      ]
    },
    {
      "cell_type": "code",
      "metadata": {
        "id": "7U0jl91feHE3"
      },
      "source": [
        "def text_tokenize(text):\n",
        "  text = text.replace(\"\\n\", \"\")\n",
        "  return text.split(\".\")\n",
        "\n",
        "def sent_tokenize(sentence):\n",
        "  sentence = cleaning(sentence)\n",
        "  return sentence.split(\" \")\n",
        "\n",
        "def cleaning(sentence) :\n",
        "  replace_punctuation = sentence.maketrans(str.punctuation, ' '*len(str.punctuation))\n",
        "  return sentence.translate(replace_punctuation)"
      ],
      "execution_count": null,
      "outputs": []
    },
    {
      "cell_type": "markdown",
      "metadata": {
        "id": "ekmSH86Kep0P"
      },
      "source": [
        "Second exercice: calculer une représentation vectorielle de la phrase par sac de mots\n",
        "--------------------\n",
        "\n",
        "Définir une fonction qui prend en argument une liste de mots et qui renvoie un vecteur. Faire attention à gérer le problèmes des mots inconnus du dictionnaire. Faut-il inclure tous les mots pour obtenir un vecteur de phrase informatif ?\n",
        "\n",
        "\n",
        "\n",
        "Certains mots inconnus doivent être inclus dans les vecteurs ; en effet, les noms propres sont importants pour les résumés. Cependant, tous les mots ne sont pas utiles pour faire un vecteur informatif : les mots grammaticaux ne donnent pas d'information sémantique et sont trop présents pour être représentatifs. Faute d'autre moyen, j'ai choisi de ne prendre en compte que les mots d'au moins quatre lettres. En effet, les mots grammaticaux ont tendance à être plus courts que les mots informatifs, et après plusieurs essais, quatre me semble être la meilleure limite. J'ajoute également les mots contenant des chiffres (nécessaire pour les années, âges, etc.)."
      ]
    },
    {
      "cell_type": "code",
      "metadata": {
        "id": "nToasuPzfM9k"
      },
      "source": [
        "# Je choisis ici de ne pas prendre en compte les mots de 3 lettres ou moins\n",
        "# (Peu de chance qu'ils soient informatifs)\n",
        "# J'inclue cependant les mots inconnus (nécessaire pour les noms) ainsi que les nombres\n",
        "def vectorize_sent(token_list):\n",
        "  vec_texte = np.zeros(200)\n",
        "  for tok in token_list :\n",
        "    if tok in w2v and len(tok) > 3 :\n",
        "      vec_texte += w2v[tok]\n",
        "    if tok not in w2v :\n",
        "      if len(tok) > 2 or bool(re.search(r'\\d', tok)) :\n",
        "        vec_texte += np.zeros(200)\n",
        "  return vec_texte"
      ],
      "execution_count": null,
      "outputs": []
    },
    {
      "cell_type": "markdown",
      "metadata": {
        "id": "zWPjow1hfYWs"
      },
      "source": [
        "Troisième exercice : Définir une fonction qui calcule les similarités entre les phrases\n",
        "--------------\n",
        "Définir une fonction qui, à partir d'une liste de phrases, calcule une matrice stochastique construite à partir des similarités cosinus entre chaque couple de phrases. Faut-il réaliser un lissage comme dans le cas du pagerank traditionnel ? pourquoi ?\n",
        "\n"
      ]
    },
    {
      "cell_type": "code",
      "metadata": {
        "id": "aV15ofn3f8Iy"
      },
      "source": [
        "def cos_similarity (vectorA, vectorB) :\n",
        "    prodScal = np.dot(vectorA, vectorB)\n",
        "    multNorm = norm(vectorA)*norm(vectorB)\n",
        "    if multNorm != 0 :\n",
        "      return (prodScal / multNorm)\n",
        "    return -1\n",
        "\n",
        "def stoc_matrix (matrix, n) :\n",
        "  new_matrix = np.copy(matrix)\n",
        "  for i in range (0, n) :\n",
        "    somme = 0\n",
        "    for j in range (0, n) :\n",
        "      somme += matrix[i, j]\n",
        "    if somme != 0 :\n",
        "      for j in range (0, n) :\n",
        "        new_matrix[i, j] = matrix[i, j] / somme\n",
        "  return new_matrix\n",
        "\n",
        "\n",
        "def make_matrix(vector_list,delta):\n",
        "  n = len(vector_list)\n",
        "  matrix = np.zeros((n,n))\n",
        "  for i in range (0, n) :\n",
        "    for j in range (0, n) :\n",
        "      matrix[i, j] = cos_similarity(vector_list[i], vector_list[j])\n",
        "  matrix = stoc_matrix(matrix, n)\n",
        "  return matrix"
      ],
      "execution_count": null,
      "outputs": []
    },
    {
      "cell_type": "markdown",
      "metadata": {
        "id": "HuMZBU4-gFoC"
      },
      "source": [
        "Quatrième exercice : calcul du pageRank\n",
        "-------------\n",
        "Définir une fonction qui calcule le pageRank de la matrice stochastique et qui sélectionne les K phrases les plus pertinentes d'un texte"
      ]
    },
    {
      "cell_type": "code",
      "metadata": {
        "id": "fKoaAzsdge0-"
      },
      "source": [
        "import numpy.random as rand\n",
        "import heapq\n",
        "import networkx as nx\n",
        "\n",
        "def n_max(tab, n) :\n",
        "  maximums = []\n",
        "  for _ in range(n) :\n",
        "    maxi = 0\n",
        "    for i in range(len(tab)) :\n",
        "      if tab[i] > tab[maxi] and i not in maximums:\n",
        "        maxi = i\n",
        "    maximums.append(maxi)\n",
        "    tab[maxi] = float('-inf')\n",
        "  return maximums\n",
        "  \n",
        "\n",
        "def ergodique(S,delta) :\n",
        "  return delta * S + (1-delta) * 1/len(S)\n",
        "\n",
        "def pagerank(G,K=5):\n",
        "  x = G[0,:]\n",
        "  for _ in range(100) :\n",
        "    x = G @ x\n",
        "  return n_max(x, K)"
      ],
      "execution_count": null,
      "outputs": []
    },
    {
      "cell_type": "markdown",
      "metadata": {
        "id": "x-OmHQghQ8aA"
      },
      "source": [
        "\n",
        "Cinquième exercice : Synthese et commentaires\n",
        "-------------\n",
        "Rassemblez les solutions obtenues dans les exercices précédents pour afficher le résumé extractif de chacun des textes du corpus\n",
        "\n",
        "Le paramètre delta choisi pour rendre la méthode ergodique modifie les résultats obtenus ; 0.1 est la meilleure valeur que j'aie trouvée. Cependant, le lissage pour créer la matrice n'est pas nécessaire."
      ]
    },
    {
      "cell_type": "code",
      "metadata": {
        "id": "ITet1NQ8RFiv",
        "colab": {
          "base_uri": "https://localhost:8080/",
          "height": 1000
        },
        "outputId": "2fd20998-0d68-4d18-b8ba-33b89e84284e"
      },
      "source": [
        "import string as str\n",
        "import numpy as np\n",
        "import re\n",
        "from numpy.linalg import norm\n",
        "\n",
        "def summary(texte):\n",
        "  sentences = text_tokenize(text)\n",
        "  vector_list = []\n",
        "  for sentence in sentences :\n",
        "    token_list = sent_tokenize(sentence)\n",
        "    vector = vectorize_sent(token_list)\n",
        "    vector_list.append(vector)\n",
        "  matrix = make_matrix(vector_list, 0)\n",
        "  g = ergodique(matrix, 0.1)\n",
        "  pr = pagerank(g)\n",
        "  print(pr)\n",
        "  for indice in pr :\n",
        "    print(sentences[indice])\n",
        "  print()\n",
        "\n",
        "for text in corpus :\n",
        "  summary(text)"
      ],
      "execution_count": null,
      "outputs": [
        {
          "output_type": "stream",
          "text": [
            "[5, 0, 4, 6, 7]\n",
            " Plusieurs de ses confrères, constatant à leur tour que la Fronde avait occasionné un rejet de la tragédie historique et politique, renoncèrent de même à écrire des tragédies ou se concentrèrent sur le genre de la comédie\n",
            "Pierre Corneille, aussi appelé « le Grand Corneille » ou « Corneille l'aîné », né le 6 juin 1606 à Rouen et mort le 1er octobre 1684 à Paris (paroisse Saint-Roch), est un dramaturge et poète français du XVIIe siècle\n",
            "Déçu par l'accueil rencontré par Pertharite (1652, pendant les troubles de la Fronde), au moment où le début de sa traduction de L'Imitation de Jésus-Christ connaissait un extraordinaire succès de librairie, il décida de renoncer à l'écriture théâtrale et acheva progressivement la traduction de L'Imitation\n",
            " Tenté dès 1656 de revenir au théâtre par le biais d'une tragédie à grand spectacle que lui avait commandée un noble normand (La Conquête de la Toison d'or, créée à Paris six ans plus tard fut l'un des plus grands succès du siècle), occupé les années suivantes à corriger tout son théâtre pour en publier une nouvelle édition accompagnée de discours critiques et théoriques, il céda facilement en 1658 à l'invitation du surintendant Nicolas Fouquet et revint au théâtre au début de 1659 en proposant une réécriture du sujet-phare de la tragédie, Œdipe\n",
            " Cette pièce fut très bien accueillie et Corneille enchaîna ensuite les succès durant quelques années, mais la faveur grandissante des tragédies où dominait l'expression du sentiment amoureux (de Quinault, de son propre frère Thomas, et enfin de Jean Racine) relégua ses créations au second plan\n",
            "\n",
            "[3, 4, 0, 1, 2]\n",
            " Le succès d’Alexandre le Grand, en 1665, lui confère une solide réputation et lui apporte le soutien du jeune roi Louis XIV\n",
            " Andromaque, en 1667, ouvre une décennie de grandes créations qui voit, à côté d'une unique comédie (Les Plaideurs, 1668), représentées les sept tragédies consacrées par l’historiographie comme ses plus remarquables : Britannicus (1669), Bérénice (1670), Bajazet (1672), Mithridate (1673), Iphigénie (1674) et Phèdre (1677)\n",
            "Jean Racine (La Ferté-Milon, 21 décembre 1639 – Paris, 21 avril 1699) est un dramaturge et poète français\n",
            "Issu d'une famille de petits notables de la Ferté-Milon et tôt orphelin, Racine reçoit auprès des « Solitaires » de Port-Royal une éducation littéraire et religieuse rare\n",
            " Se détournant d'une carrière ecclésiastique, il entreprend, jeune, de faire une carrière des lettres, en privilégiant la poésie et le théâtre tragique\n",
            "\n",
            "[0, 1, 2, 3, 4]\n",
            "Victor Hugo est un poète, dramaturge, écrivain, romancier et dessinateur romantique français, né le 7 ventôse an X (26 février 1802) à Besançon et mort le 22 mai 1885 à Paris\n",
            " Il est considéré comme l'un des plus importants écrivains de langue française\n",
            " Il est aussi une personnalité politique et un intellectuel engagé qui a eu un rôle idéologique majeur et occupe une place marquante dans l'histoire des lettres françaises au XIXe siècle, dans des genres et des domaines d’une remarquable variété,\n",
            "Au théâtre, Victor Hugo se manifeste comme un des chefs de file du romantisme français lorsqu'il expose sa théorie du drame romantique dans les préfaces qui introduisent Cromwell en 1827, puis Hernani en 1830 qui sont de véritables manifestes, puis par ses autres œuvres dramatiques : Ruy Blas en 1838, mais aussi Lucrèce Borgia et Le Roi s'amuse\n",
            "Victor Hugo est aussi un poète lyrique avec des recueils comme Odes et Ballades (1826), Les Feuilles d'automne (1831) ou Les Contemplations (1856), mais il est aussi poète engagé contre Napoléon III dans Les Châtiments (1853) ou encore poète épique avec La Légende des siècles (1859 et 1877)\n",
            "\n",
            "[0, 1, 2, 0, 0]\n",
            "Gustave Flaubert est un écrivain français né à Rouen le 12 décembre 1821 et mort à Croisset, lieu-dit de la commune de Canteleu, le 8 mai 1880\n",
            "Prosateur de premier plan de la seconde moitié du XIXe siècle, Gustave Flaubert a marqué la littérature universelle par la profondeur de ses analyses psychologiques, son souci de réalisme, son regard lucide sur les comportements des individus et de la société, et par la force de son style dans de grands romans comme Madame Bovary (1857), Salammbô (1862), L'Éducation sentimentale (1869), ou le recueil de nouvelles Trois Contes (1877)\n",
            "\n",
            "Gustave Flaubert est un écrivain français né à Rouen le 12 décembre 1821 et mort à Croisset, lieu-dit de la commune de Canteleu, le 8 mai 1880\n",
            "Gustave Flaubert est un écrivain français né à Rouen le 12 décembre 1821 et mort à Croisset, lieu-dit de la commune de Canteleu, le 8 mai 1880\n",
            "\n",
            "[21, 0, 1, 2, 4]\n",
            "\n",
            "Honoré de Balzac, né Honoré Balzac à Tours le 20 mai 1799 (1er prairial an VII du calendrier républicain) et mort à Paris le 18 août 1850 , est un écrivain français\n",
            " Romancier, dramaturge, critique littéraire, critique d'art, essayiste, journaliste et imprimeur, il a laissé l'une des plus imposantes œuvres romanesques de la littérature française, avec plus de quatre-vingt-dix romans et nouvelles parus de 1829 à 1855, réunis sous le titre La Comédie humaine\n",
            " À cela s'ajoutent Les Cent Contes drolatiques, ainsi que des romans de jeunesse publiés sous des pseudonymes et quelque vingt-cinq œuvres ébauchées\n",
            " Il a surtout excellé dans la veine du réalisme, avec notamment Le Père Goriot et Eugénie Grandet, mais il s'agit d'un réalisme visionnaire, que transcende la puissance de son imagination créatrice\n",
            "\n",
            "[0, 1, 2, 3, 4]\n",
            "Émile Zola est un écrivain et journaliste français, né le 2 avril 1840 à Paris et mort le 29 septembre 1902 dans la même ville\n",
            " Considéré comme le chef de file du naturalisme, c'est l'un des romanciers français les plus populaires, les plus publiés, traduits et commentés au monde\n",
            " Ses romans ont connu de très nombreuses adaptations au cinéma et à la télévision\n",
            "Sa vie et son œuvre ont fait l'objet de nombreuses études historiques\n",
            " Sur le plan littéraire, il est principalement connu pour Les Rougon-Macquart, fresque romanesque en vingt volumes dépeignant la société française sous le Second Empire et qui met en scène la trajectoire de la famille des Rougon-Macquart, à travers ses différentes générations et dont chacun des représentants d'une époque et d'une génération particulière fait l'objet d'un roman\n",
            "\n",
            "[0, 1, 2, 3, 4]\n",
            "Charles Baudelaire est un poète français\n",
            " Né à Paris le 9 avril 1821, il meurt dans la même ville le 31 août 1867\n",
            "« Dante d’une époque déchue » selon le mot de Barbey d’Aurevilly, « tourné vers le classicisme, nourri de romantisme », à la croisée entre le Parnasse et le symbolisme, chantre de la « modernité », il occupe une place considérable parmi les poètes français pour un recueil certes bref au regard de l’œuvre de son contemporain Victor Hugo (Baudelaire s’ouvrit à son éditeur de sa crainte que son volume ne ressemblât trop à une plaquette…), mais qu’il aura façonné sa vie durant : Les Fleurs du mal\n",
            "Au cœur des débats sur la fonction de la littérature de son époque, Baudelaire détache la poésie de la morale, la proclame tout entière destinée au Beau et non à la Vérité\n",
            " Comme le suggère le titre de son recueil, il a tenté de tisser des liens entre le mal et la beauté, le bonheur fugitif et l’idéal inaccessible (À une Passante), la violence et la volupté (Une martyre), mais aussi entre le poète et son lecteur (« Hypocrite lecteur, mon semblable, mon frère ») et même entre les artistes à travers les âges (Les Phares)\n",
            "\n",
            "[0, 4, 5, 6, 8]\n",
            "Arthur Rimbaud est un poète français, né le 20 octobre 1854 à Charleville et mort le 10 novembre 1891 à Marseille\n",
            " Il entretient une aventure amoureuse tumultueuse avec le poète Paul Verlaine\n",
            " À l'âge de vingt ans, il renonce subitement à l’écriture, sans avoir encore été véritablement publié, pour se consacrer davantage à la lecture, ainsi qu'à la poursuite de sa pratique des langues\n",
            "Ses idées marginales, anti-bourgeoises et libertaires le poussent à choisir une vie aventureuse, dont les pérégrinations l’amènent jusqu’en Abyssinie, où il devient négociant (quincaillerie, bazar, vêtements, café etc\n",
            " Sa tentative d'armer Menelik avec l'aval du Consul de France s'avère désastreuse pour lui\n",
            "\n",
            "[0, 7, 1, 2, 3]\n",
            "Paul Verlaine est un écrivain et poète français du XIXe siècle, né à Metz (Moselle) le 30 mars 1844 et mort à Paris le 8 janvier 1896 \n",
            " Son style — fait de musicalité et de fluidité jouant avec les rythmes impairs — et la tonalité de nombre de ses poèmes — associant mélancolie et clairs-obscurs — révèlent, au-delà de l'apparente simplicité formelle, une profonde sensibilité, en résonance avec l'inspiration de certains artistes contemporains, des peintres impressionnistes ou des compositeurs (tels Reynaldo Hahn, Gabriel Fauré et Claude Debussy, qui mettront d'ailleurs en musique plusieurs de ses poèmes)\n",
            "Il s'essaie à la poésie et publie son premier recueil, Poèmes saturniens en 1866, à 22 ans\n",
            " Sa vie est bouleversée quand il rencontre Arthur Rimbaud en septembre 1871\n",
            " Leur vie amoureuse tumultueuse et errante en Angleterre et en Belgique débouche sur la scène violente où, à Bruxelles, Verlaine, d'un coup de revolver, blesse au poignet celui qu'il appelle son « époux infernal » : jugé et condamné, il passe deux années de prison, renouant avec le catholicisme de son enfance et écrivant des poèmes qui prendront place dans ses recueils suivants : Sagesse (1880), Jadis et Naguère (1884) et Parallèlement (1889)\n",
            "\n"
          ],
          "name": "stdout"
        }
      ]
    },
    {
      "cell_type": "markdown",
      "metadata": {
        "id": "931rMLOYkUFQ"
      },
      "source": [
        "Analysez votre démarche et indiquez quels paramètres ont un impact sur le résumé produit au final, comme par exemple:\n",
        "*  Segmentation et mots inconnus\n",
        "*  Quels mots inclure dans la vectorisation de la phrase ?\n",
        "*  Paramètre delta de lissage \n",
        "* ... (autres)\n",
        "\n",
        "A votre avis, comment pourrait-on mesurer la qualité d'un résumé ?\n",
        "\n",
        "La méthode proposée est-elle convaincante ? A votre avis, comment pourrait-on l'améliorer ?  \n",
        "\n",
        "Pour mesurer la qualité d'un résumé, on pourrait vérifier que l'on a bien les informations importantes du texte : en l'occurrence, noms, dates importantes, faits marquants de l'auteur."
      ]
    }
  ]
}