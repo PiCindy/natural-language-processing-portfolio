{
 "cells": [
  {
   "cell_type": "markdown",
   "metadata": {},
   "source": [
    "# Braille detection with CNN\n",
    "### Justine Diliberto, Anna Nikiforovskaja, Cindy Pereira\n",
    "\n",
    "In this script we create, train and evaluate image classifiers based on convolutional networks to recognize Braille characters. \\\n",
    "The first model is nicknamed \"simple\", the second \"6 cells\", and the last \"6 cells + map\". They are described in their corresponding parts.\n"
   ]
  },
  {
   "cell_type": "code",
   "execution_count": 1,
   "metadata": {},
   "outputs": [],
   "source": [
    "import os\n",
    "import numpy as np\n",
    "import matplotlib.pyplot as plt\n",
    "import torch\n",
    "import torch.nn as nn\n",
    "from torchvision import transforms, datasets\n",
    "from torch.utils.data import DataLoader, Subset\n",
    "from torch.utils.data import Dataset, DataLoader\n",
    "import fnmatch\n",
    "from skimage import io, transform\n",
    "import torchvision\n",
    "import pandas as pd\n",
    "\n",
    "# Define the device and data repository\n",
    "device = 'cpu'\n",
    "data_dir = 'dataset/'"
   ]
  },
  {
   "cell_type": "markdown",
   "metadata": {},
   "source": [
    "# Data management\n",
    "\n",
    "We read data, split it onto train, validation and test sets. We also create data loaders along with preprocessing."
   ]
  },
  {
   "cell_type": "code",
   "execution_count": 2,
   "metadata": {},
   "outputs": [],
   "source": [
    "# We start by creating a class object for representing our image data\n",
    "# This is a subclass of torch.utils.data.dataset.Dataset that will serve as input to the DataLoader\n",
    "\n",
    "class ImageDataset(Dataset):\n",
    "\n",
    "    def __init__(self, image_dir, transform=None):\n",
    "        \"\"\"Initialize the attributes of the object of the class.\"\"\"\n",
    "        self.image_dir = image_dir\n",
    "        self.image_files = sorted(self._find_files(image_dir))\n",
    "        # Get the first character in each filename: corresponds to the letter of the file\n",
    "        # ex: dataset/a1.JPG0dim.jpg -> get the \"a\"\n",
    "        self.classes = [filename.split(\"/\")[-1][0] for filename in self.image_files]\n",
    "        # Create a dictionary associating a number to each letter\n",
    "        self.let2num = {a: i for i, a in enumerate(sorted(list(set(self.classes))))}\n",
    "        # Create the reverted dictionary with number as key\n",
    "        self.num2let = {i: a for a, i in self.let2num.items()}\n",
    "        self.transform = transform\n",
    "        \n",
    "    def letter_to_number(self, let):\n",
    "        \"\"\"Get the number associated to a letter\"\"\"\n",
    "        return self.let2num[let]\n",
    "    \n",
    "    def number_to_letter(self, num):\n",
    "        \"\"\"Get the letter associated to a number\"\"\"\n",
    "        return self.num2let[num]\n",
    "    \n",
    "\n",
    "    def __len__(self):\n",
    "        \"\"\"Get the size of the dataset.\"\"\"\n",
    "        return len(self.image_files)\n",
    "\n",
    "    def __getitem__(self, index):\n",
    "        \"\"\"Here we return a data sample for a given index.\"\"\"\n",
    "        filename = self.image_files[index]\n",
    "        x = io.imread(filename)\n",
    "        \n",
    "        if self.transform:\n",
    "            x = self.transform(x)\n",
    "        return x, self.classes[index]\n",
    "\n",
    "    def _find_files(self, directory, pattern='*.jpg'):\n",
    "        \"\"\"Recursively finds all files matching the pattern.\"\"\"\n",
    "        files = []\n",
    "        for root, dirnames, filenames in os.walk(directory):\n",
    "            for filename in fnmatch.filter(filenames, pattern):\n",
    "                files.append(os.path.join(root, filename))\n",
    "        return files\n"
   ]
  },
  {
   "cell_type": "code",
   "execution_count": 3,
   "metadata": {},
   "outputs": [],
   "source": [
    "# Create the transform to apply on the data\n",
    "data_transforms = torchvision.transforms.Compose([torchvision.transforms.ToTensor(),\n",
    "                                                  torchvision.transforms.Normalize(\n",
    "                                                      mean=(0.5, 0.5, 0.5), \n",
    "                                                      std=(0.3,0.3,0.3))])"
   ]
  },
  {
   "cell_type": "code",
   "execution_count": 4,
   "metadata": {},
   "outputs": [],
   "source": [
    "# Create the dataset\n",
    "dataset = ImageDataset(image_dir=data_dir, transform=data_transforms)"
   ]
  },
  {
   "cell_type": "markdown",
   "metadata": {},
   "source": [
    "Here we check that our Dataset class and functions work fine."
   ]
  },
  {
   "cell_type": "code",
   "execution_count": 5,
   "metadata": {},
   "outputs": [
    {
     "data": {
      "text/plain": [
       "26"
      ]
     },
     "execution_count": 5,
     "metadata": {},
     "output_type": "execute_result"
    }
   ],
   "source": [
    "len(set(dataset.classes))"
   ]
  },
  {
   "cell_type": "markdown",
   "metadata": {},
   "source": [
    "We have 26 classes, which is as planned (they correspond to each letter of the alphabet)"
   ]
  },
  {
   "cell_type": "markdown",
   "metadata": {},
   "source": [
    "We can now look at a sample of the dataset:"
   ]
  },
  {
   "cell_type": "code",
   "execution_count": 6,
   "metadata": {},
   "outputs": [
    {
     "name": "stderr",
     "output_type": "stream",
     "text": [
      "Clipping input data to the valid range for imshow with RGB data ([0..1] for floats or [0..255] for integers).\n"
     ]
    },
    {
     "data": {
      "text/plain": [
       "<matplotlib.image.AxesImage at 0x7feff104ffd0>"
      ]
     },
     "execution_count": 6,
     "metadata": {},
     "output_type": "execute_result"
    },
    {
     "data": {
      "image/png": "[encoded data removed]",
      "text/plain": [
       "<Figure size 432x288 with 1 Axes>"
      ]
     },
     "metadata": {
      "needs_background": "light"
     },
     "output_type": "display_data"
    }
   ],
   "source": [
    "plt.imshow(dataset[0][0].numpy().transpose(1, 2, 0))"
   ]
  },
  {
   "cell_type": "code",
   "execution_count": 7,
   "metadata": {},
   "outputs": [
    {
     "data": {
      "text/plain": [
       "torch.Size([3, 28, 28])"
      ]
     },
     "execution_count": 7,
     "metadata": {},
     "output_type": "execute_result"
    }
   ],
   "source": [
    "# Check the size of the first element\n",
    "dataset[0][0].size()"
   ]
  },
  {
   "cell_type": "markdown",
   "metadata": {},
   "source": [
    "We check that the first element of letter_to_number corresponds to the first element of number_to_letter:\n",
    "(meaning the mapping is correct, for example \"a\" is the 0th element)"
   ]
  },
  {
   "cell_type": "code",
   "execution_count": 8,
   "metadata": {},
   "outputs": [
    {
     "data": {
      "text/plain": [
       "0"
      ]
     },
     "execution_count": 8,
     "metadata": {},
     "output_type": "execute_result"
    }
   ],
   "source": [
    "dataset.letter_to_number(dataset[0][1])"
   ]
  },
  {
   "cell_type": "code",
   "execution_count": 9,
   "metadata": {},
   "outputs": [
    {
     "data": {
      "text/plain": [
       "'a'"
      ]
     },
     "execution_count": 9,
     "metadata": {},
     "output_type": "execute_result"
    }
   ],
   "source": [
    "dataset.number_to_letter(0)"
   ]
  },
  {
   "cell_type": "code",
   "execution_count": 10,
   "metadata": {},
   "outputs": [],
   "source": [
    "# Get the lengths of train (80%), validation (10%) and test (10%) sets\n",
    "dataset_ln = len(dataset)\n",
    "train_ln, val_ln, test_ln = int(dataset_ln * 0.8), int(dataset_ln * 0.1), int(dataset_ln * 0.1)"
   ]
  },
  {
   "cell_type": "code",
   "execution_count": 11,
   "metadata": {},
   "outputs": [],
   "source": [
    "# Split the data into train, validation and test sets\n",
    "train_data, val_data, test_data = torch.utils.data.random_split(dataset, [train_ln, val_ln, test_ln], generator=torch.Generator().manual_seed(42))"
   ]
  },
  {
   "cell_type": "code",
   "execution_count": 12,
   "metadata": {},
   "outputs": [
    {
     "data": {
      "text/plain": [
       "156"
      ]
     },
     "execution_count": 12,
     "metadata": {},
     "output_type": "execute_result"
    }
   ],
   "source": [
    "len(val_data)"
   ]
  },
  {
   "cell_type": "code",
   "execution_count": 13,
   "metadata": {},
   "outputs": [
    {
     "data": {
      "text/plain": [
       "(tensor([[[1.6667, 1.6667, 1.6536,  ..., 1.6013, 1.6275, 1.6536],\n",
       "          [1.6667, 1.6667, 1.6536,  ..., 1.6013, 1.6275, 1.6536],\n",
       "          [1.6667, 1.6667, 1.6536,  ..., 1.6013, 1.6275, 1.6536],\n",
       "          ...,\n",
       "          [1.6536, 1.6536, 1.6536,  ..., 1.6405, 1.6405, 1.6536],\n",
       "          [1.6536, 1.6536, 1.6536,  ..., 1.6405, 1.6405, 1.6536],\n",
       "          [1.6536, 1.6536, 1.6536,  ..., 1.6405, 1.6405, 1.6536]],\n",
       " \n",
       "         [[1.6667, 1.6667, 1.6536,  ..., 1.6013, 1.6275, 1.6536],\n",
       "          [1.6667, 1.6667, 1.6536,  ..., 1.6013, 1.6275, 1.6536],\n",
       "          [1.6667, 1.6667, 1.6536,  ..., 1.6013, 1.6275, 1.6536],\n",
       "          ...,\n",
       "          [1.6536, 1.6536, 1.6536,  ..., 1.6405, 1.6405, 1.6536],\n",
       "          [1.6536, 1.6536, 1.6536,  ..., 1.6405, 1.6405, 1.6536],\n",
       "          [1.6536, 1.6536, 1.6536,  ..., 1.6405, 1.6405, 1.6536]],\n",
       " \n",
       "         [[1.6667, 1.6667, 1.6536,  ..., 1.6013, 1.6275, 1.6536],\n",
       "          [1.6667, 1.6667, 1.6536,  ..., 1.6013, 1.6275, 1.6536],\n",
       "          [1.6667, 1.6667, 1.6536,  ..., 1.6013, 1.6275, 1.6536],\n",
       "          ...,\n",
       "          [1.6536, 1.6536, 1.6536,  ..., 1.6405, 1.6405, 1.6536],\n",
       "          [1.6536, 1.6536, 1.6536,  ..., 1.6405, 1.6405, 1.6536],\n",
       "          [1.6536, 1.6536, 1.6536,  ..., 1.6405, 1.6405, 1.6536]]]),\n",
       " 'w')"
      ]
     },
     "execution_count": 13,
     "metadata": {},
     "output_type": "execute_result"
    }
   ],
   "source": [
    "val_data[1]"
   ]
  },
  {
   "cell_type": "code",
   "execution_count": 14,
   "metadata": {},
   "outputs": [],
   "source": [
    "def collate_fn(data):\n",
    "    \"\"\"Associate images with labels\"\"\"\n",
    "    images, labels = zip(*data)\n",
    "    # Get the number corresponding to each label\n",
    "    labels = [dataset.letter_to_number(label) for label in labels]\n",
    "    return torch.stack(images).float(), torch.tensor(labels).long()\n"
   ]
  },
  {
   "cell_type": "code",
   "execution_count": 15,
   "metadata": {},
   "outputs": [],
   "source": [
    "# Load data using a batch size of 8\n",
    "batch_size = 8\n",
    "train_dataloader = DataLoader(train_data, shuffle=True, batch_size=batch_size, collate_fn=collate_fn)\n",
    "val_dataloader = DataLoader(val_data, batch_size=batch_size, collate_fn=collate_fn)\n",
    "test_dataloader = DataLoader(test_data, batch_size=batch_size, collate_fn=collate_fn)"
   ]
  },
  {
   "cell_type": "markdown",
   "metadata": {},
   "source": [
    "# Useful functions for training, validation and testing"
   ]
  },
  {
   "cell_type": "markdown",
   "metadata": {},
   "source": [
    "This part contains functions that are used in our different models. They are useful to train, validate and test the models."
   ]
  },
  {
   "cell_type": "code",
   "execution_count": 16,
   "metadata": {},
   "outputs": [],
   "source": [
    "def train_model(model, train_dataloader, valid_dataloader, num_epochs, loss_fn, learning_rate, \n",
    "                device='cpu', verbose=True, model_name='simple', optim='SGD', cells=False):\n",
    "    \"\"\"Train the model\"\"\"\n",
    "\n",
    "    # Copy the model to the device and set it in 'training' mode (thus all gradients are computed)\n",
    "    model = model.to(device)\n",
    "    model.train()\n",
    "    \n",
    "    # Define the optimizer\n",
    "    if optim == 'SGD':\n",
    "        optimizer = torch.optim.SGD(model.parameters(), lr=learning_rate)\n",
    "    elif optim == 'Adam':\n",
    "        optimizer = torch.optim.Adam(model.parameters(), lr=learning_rate)\n",
    "    # Initialize a list to record the training loss over epochs\n",
    "    loss_all_epochs = []\n",
    "    \n",
    "    last_best_acc = 0\n",
    "    \n",
    "    # Training loop\n",
    "    for epoch in range(num_epochs):\n",
    "        model.train()\n",
    "        # Initialize the training loss for the current epoch\n",
    "        loss_current_epoch = 0\n",
    "        \n",
    "        # Iterate over batches using the dataloader\n",
    "        for batch_index, (images, labels) in enumerate(train_dataloader):\n",
    "            #print(labels)\n",
    "            #print(images.size(), labels.size(), labels)\n",
    "            images = images.to(device)\n",
    "            # cells is True if we use the 3rd model\n",
    "            if cells:\n",
    "                # In this case, labels are bits where 1 corresponds to a black dot in Braille\n",
    "                new_labels = torch.zeros((len(labels), 6))\n",
    "                for i, l in enumerate(labels):\n",
    "                    new_labels[i] = torch.tensor(list(map(int, braille_map[dataset.number_to_letter(l.item())]))).float()\n",
    "                labels = new_labels\n",
    "            else:\n",
    "                labels = labels.to(device)\n",
    "            # Predict ys\n",
    "            y_pred = model(images)\n",
    "            # Apply loss function on predictions\n",
    "            loss = loss_fn(y_pred, labels)\n",
    "            \n",
    "            # Compute the gradient\n",
    "            loss.backward()\n",
    "            # Update the parameters\n",
    "            optimizer.step()\n",
    "            # Set the gradients to 0\n",
    "            optimizer.zero_grad()\n",
    "            # Update the loss\n",
    "            loss_current_epoch += loss.item()\n",
    "        \n",
    "        # Compute the accuracy\n",
    "        cur_acc = eval_model(model, valid_dataloader)\n",
    "        # Save the parameters if it's the new best accuracy \n",
    "        if cur_acc > last_best_acc:\n",
    "            last_best_acc = cur_acc\n",
    "            torch.save(model.state_dict(), f'models/model_{model_name}_best.pt')\n",
    "            print(\"\\nNew best accuracy! \", last_best_acc)\n",
    "            \n",
    "        # At the end of each epoch, record and display the loss over all batches\n",
    "        loss_all_epochs.append(loss_current_epoch)\n",
    "        if verbose:\n",
    "            print('\\rEpoch [{}/{}], Loss: {:.4f}'.format(epoch+1, num_epochs, loss_current_epoch), end='')\n",
    "        \n",
    "    return model, loss_all_epochs"
   ]
  },
  {
   "cell_type": "code",
   "execution_count": 17,
   "metadata": {},
   "outputs": [],
   "source": [
    "def eval_model(model, eval_dataloader, device='cpu'):\n",
    "    \"\"\"Evaluate the model\"\"\"\n",
    "    \n",
    "    # Copy the model to the device\n",
    "    model.to(device)\n",
    "    # Set the model in 'evaluation' mode (this disables some layers (batch norm, dropout...) which are not needed when testing)\n",
    "    model.eval() \n",
    "\n",
    "    # In evaluation phase, we don't need to compute gradients (for memory efficiency)\n",
    "    with torch.no_grad():\n",
    "        # Initialize the total and correct number of labels to compute the accuracy\n",
    "        correct_labels = 0\n",
    "        total_labels = 0\n",
    "        \n",
    "        # Iterate over the dataset using the dataloader\n",
    "        for images, labels in eval_dataloader:\n",
    "\n",
    "            # Get the predicted labels classes\n",
    "            images = images.to(device)\n",
    "            labels = labels.to(device)\n",
    "            y_predicted = model(images)\n",
    "            \n",
    "            # To get the predicted labels, we need to get the max over all possible classes\n",
    "            _, label_predicted = torch.max(y_predicted.data, 1)\n",
    "            \n",
    "            # Compute accuracy: count the total number of samples, and the correct labels (compare the true and predicted labels)\n",
    "            total_labels += labels.size(0)\n",
    "            correct_labels += (label_predicted == labels).sum().item()\n",
    "    \n",
    "    accuracy = 100 * correct_labels / total_labels\n",
    "    \n",
    "    return accuracy"
   ]
  },
  {
   "cell_type": "code",
   "execution_count": 18,
   "metadata": {},
   "outputs": [],
   "source": [
    "# Create a dataframe to store the results\n",
    "all_results = {\"Model\":[], \"Loss\":[], \"Optimizer\":[], \"lr\":[], \"Accuracy\":[]}"
   ]
  },
  {
   "cell_type": "markdown",
   "metadata": {},
   "source": [
    "# First model"
   ]
  },
  {
   "cell_type": "markdown",
   "metadata": {},
   "source": [
    "Our first model is a simple CNN classifier, with 2 sequential layers each containing convolution, rectified linear unit, batch normalization and max pooling."
   ]
  },
  {
   "cell_type": "code",
   "execution_count": 19,
   "metadata": {},
   "outputs": [],
   "source": [
    "# Define a CNN classifier module.\n",
    "\n",
    "class CNNSimpleClassif(nn.Module):\n",
    "    def __init__(self, num_channels1=16, num_channels2=32, num_classes=26):\n",
    "        \"\"\"Models a simple classifier\"\"\"\n",
    "        super(CNNSimpleClassif, self).__init__()\n",
    "        \n",
    "        # Create two sequential layers with convolution, ReLU, BatchNorm and Max Pooling\n",
    "        self.l1 = nn.Sequential(nn.Conv2d(3, num_channels1, kernel_size=5, padding=2),\n",
    "                           nn.ReLU(),\n",
    "                           nn.BatchNorm2d(16),\n",
    "                           nn.MaxPool2d(kernel_size=2))\n",
    "        self.l2 = nn.Sequential(nn.Conv2d(num_channels1, num_channels2, kernel_size=5, padding=2),\n",
    "                           nn.ReLU(),\n",
    "                           nn.BatchNorm2d(32),\n",
    "                           nn.MaxPool2d(kernel_size=2))\n",
    "        \n",
    "        size_vec = 1568\n",
    "        # Create a linear layer\n",
    "        self.res = nn.Linear(size_vec, num_classes)\n",
    "        \n",
    "\n",
    "    def forward(self, x):\n",
    "        \"\"\"Move from the input layers to the output layer\"\"\"\n",
    "        x = self.l2(self.l1(x))\n",
    "        x = x.reshape(x.shape[0], -1)\n",
    "        out = self.res(x)\n",
    "        return out"
   ]
  },
  {
   "cell_type": "markdown",
   "metadata": {},
   "source": [
    "## Experiments"
   ]
  },
  {
   "cell_type": "markdown",
   "metadata": {},
   "source": [
    "After having set up the model, we set the parameters to run on, create the instance, and train it."
   ]
  },
  {
   "cell_type": "code",
   "execution_count": 20,
   "metadata": {},
   "outputs": [],
   "source": [
    "# Set the parameters\n",
    "num_channels1 = 16\n",
    "num_channels2 = 32\n",
    "num_classes = 26\n",
    "# Create the model following the simple classifier\n",
    "model = CNNSimpleClassif(num_channels1, num_channels2, num_classes)"
   ]
  },
  {
   "cell_type": "code",
   "execution_count": 21,
   "metadata": {},
   "outputs": [
    {
     "name": "stdout",
     "output_type": "stream",
     "text": [
      "\n",
      "New best accuracy!  44.23076923076923\n",
      "Epoch [1/20], Loss: 415.3058\n",
      "New best accuracy!  55.12820512820513\n",
      "Epoch [2/20], Loss: 260.6343\n",
      "New best accuracy!  61.53846153846154\n",
      "Epoch [4/20], Loss: 174.5102\n",
      "New best accuracy!  65.38461538461539\n",
      "Epoch [5/20], Loss: 151.1646\n",
      "New best accuracy!  67.3076923076923\n",
      "Epoch [6/20], Loss: 132.7969\n",
      "New best accuracy!  69.23076923076923\n",
      "Epoch [7/20], Loss: 117.6019\n",
      "New best accuracy!  71.7948717948718\n",
      "Epoch [8/20], Loss: 105.1777\n",
      "New best accuracy!  73.71794871794872\n",
      "Epoch [12/20], Loss: 63.2993\n",
      "New best accuracy!  74.35897435897436\n",
      "Epoch [13/20], Loss: 56.5845\n",
      "New best accuracy!  75.0\n",
      "Epoch [15/20], Loss: 43.6829\n",
      "New best accuracy!  75.64102564102564\n",
      "Epoch [17/20], Loss: 34.2578\n",
      "New best accuracy!  76.92307692307692\n",
      "Epoch [18/20], Loss: 30.8478\n",
      "New best accuracy!  78.84615384615384\n",
      "Epoch [20/20], Loss: 24.1081"
     ]
    },
    {
     "data": {
      "image/png": "[encoded data removed]",
      "text/plain": [
       "<Figure size 432x288 with 1 Axes>"
      ]
     },
     "metadata": {
      "needs_background": "light"
     },
     "output_type": "display_data"
    }
   ],
   "source": [
    "# Optimizer\n",
    "num_epochs = 20\n",
    "loss_fn = nn.CrossEntropyLoss()\n",
    "learning_rate = 0.001\n",
    "\n",
    "# Training\n",
    "model, loss_total = train_model(model, train_dataloader, val_dataloader, num_epochs, loss_fn, learning_rate, device='cpu', verbose=True)\n",
    "\n",
    "# Save the model and display the loss over epochs\n",
    "torch.save(model.state_dict(), 'models/model_simple.pt')\n",
    "plt.plot(loss_total)\n",
    "\n",
    "# Plot the results and save the figure\n",
    "plt.title(\"Loss for the simple model\")\n",
    "plt.xlabel(\"Epoch number\")\n",
    "plt.ylabel(\"CrossEntropyLoss\")\n",
    "plt.savefig(\"plots/model_simple_loss.png\")\n",
    "plt.show() "
   ]
  },
  {
   "cell_type": "code",
   "execution_count": 22,
   "metadata": {},
   "outputs": [
    {
     "name": "stdout",
     "output_type": "stream",
     "text": [
      "79.48717948717949\n"
     ]
    }
   ],
   "source": [
    "# Reloading the model using simple classifier\n",
    "model = CNNSimpleClassif(num_channels1, num_channels2, num_classes)\n",
    "# Load the model\n",
    "model.load_state_dict(torch.load('models/model_simple_best.pt'))\n",
    "# Compute the accuracy\n",
    "res = eval_model(model, test_dataloader, device='cpu')\n",
    "print(res)"
   ]
  },
  {
   "cell_type": "markdown",
   "metadata": {},
   "source": [
    "As we can observe, the results are satisfying, with an accuracy around 83% (there are slight changes at each test)."
   ]
  },
  {
   "cell_type": "code",
   "execution_count": 23,
   "metadata": {},
   "outputs": [],
   "source": [
    "# Fill dataframe with the results of this model\n",
    "all_results[\"Model\"].append(\"simple\")\n",
    "all_results[\"Loss\"].append(\"CrossEntropyLoss\")\n",
    "all_results[\"Optimizer\"].append(\"SGD\")\n",
    "all_results[\"lr\"].append(learning_rate)\n",
    "all_results[\"Accuracy\"].append(res)"
   ]
  },
  {
   "cell_type": "markdown",
   "metadata": {},
   "source": [
    "# Second model"
   ]
  },
  {
   "cell_type": "markdown",
   "metadata": {},
   "source": [
    "Our second model uses the fact that Braille characters are composed of 6 dots, it will thus focus on identifying the black dots. It is also a CNN classifier."
   ]
  },
  {
   "cell_type": "code",
   "execution_count": 24,
   "metadata": {},
   "outputs": [],
   "source": [
    "# Define a CNN classifier module.\n",
    "\n",
    "class CNNSimple6Cells(nn.Module):\n",
    "    def __init__(self, num_channels1=16, num_channels2=32, num_classes=26):\n",
    "        \"\"\"Models a classifier using the 6 dots\"\"\"\n",
    "        super(CNNSimple6Cells, self).__init__()\n",
    "        \n",
    "        # Create two sequential layers with convolution, ReLU, BatchNorm and Max Pooling\n",
    "        self.l1 = nn.Sequential(nn.Conv2d(3, num_channels1, kernel_size=5, padding=2),\n",
    "                           nn.ReLU(),\n",
    "                           nn.BatchNorm2d(16),\n",
    "                           nn.MaxPool2d(kernel_size=2))\n",
    "        self.l2 = nn.Sequential(nn.Conv2d(num_channels1, num_channels2, kernel_size=5, padding=2),\n",
    "                           nn.ReLU(),\n",
    "                           nn.BatchNorm2d(32),\n",
    "                           nn.MaxPool2d(kernel_size=2))\n",
    "        \n",
    "        size_vec = 1568\n",
    "        # Create a sequential layer with linear and ReLU \n",
    "        self.lin6 = nn.Sequential(nn.Linear(size_vec, 6), nn.ReLU())\n",
    "        # Create a sequential layer with linear, ReLU and another linear\n",
    "        self.res = nn.Sequential(nn.Linear(6, 100),\n",
    "                                 nn.ReLU(),\n",
    "                                 nn.Linear(100, num_classes))\n",
    "        \n",
    "    def forward(self, x):\n",
    "        \"\"\"Move from the input layers to the output layer\"\"\"\n",
    "        x = self.l2(self.l1(x))\n",
    "        x = x.reshape(x.shape[0], -1)\n",
    "        out = self.res(self.lin6(x))\n",
    "        return out"
   ]
  },
  {
   "cell_type": "markdown",
   "metadata": {},
   "source": [
    "Again, we set the parameters to run on, create the instance, and train this model."
   ]
  },
  {
   "cell_type": "code",
   "execution_count": 25,
   "metadata": {},
   "outputs": [
    {
     "name": "stdout",
     "output_type": "stream",
     "text": [
      "\n",
      "New best accuracy!  25.0\n",
      "Epoch [1/40], Loss: 448.6075\n",
      "New best accuracy!  33.97435897435897\n",
      "Epoch [2/40], Loss: 326.6065\n",
      "New best accuracy!  38.46153846153846\n",
      "Epoch [3/40], Loss: 279.1588\n",
      "New best accuracy!  48.717948717948715\n",
      "Epoch [4/40], Loss: 236.9041\n",
      "New best accuracy!  49.35897435897436\n",
      "Epoch [5/40], Loss: 194.6141\n",
      "New best accuracy!  50.64102564102564\n",
      "Epoch [6/40], Loss: 174.3434\n",
      "New best accuracy!  56.41025641025641\n",
      "Epoch [7/40], Loss: 158.0836\n",
      "New best accuracy!  61.53846153846154\n",
      "Epoch [8/40], Loss: 137.0973\n",
      "New best accuracy!  67.3076923076923\n",
      "Epoch [10/40], Loss: 104.6621\n",
      "New best accuracy!  67.94871794871794\n",
      "Epoch [11/40], Loss: 91.9939\n",
      "New best accuracy!  73.71794871794872\n",
      "Epoch [15/40], Loss: 61.3815\n",
      "New best accuracy!  74.35897435897436\n",
      "Epoch [17/40], Loss: 71.1893\n",
      "New best accuracy!  75.64102564102564\n",
      "Epoch [18/40], Loss: 61.0085\n",
      "New best accuracy!  76.92307692307692\n",
      "Epoch [19/40], Loss: 51.2652\n",
      "New best accuracy!  79.48717948717949\n",
      "Epoch [24/40], Loss: 51.9170\n",
      "New best accuracy!  82.6923076923077\n",
      "Epoch [26/40], Loss: 32.3251\n",
      "New best accuracy!  83.33333333333333\n",
      "Epoch [30/40], Loss: 36.4371\n",
      "New best accuracy!  85.25641025641026\n",
      "Epoch [33/40], Loss: 26.3866\n",
      "New best accuracy!  87.17948717948718\n",
      "Epoch [35/40], Loss: 29.2739\n",
      "New best accuracy!  87.82051282051282\n",
      "Epoch [40/40], Loss: 16.6820"
     ]
    },
    {
     "data": {
      "image/png": "[encoded data removed]",
      "text/plain": [
       "<Figure size 432x288 with 1 Axes>"
      ]
     },
     "metadata": {
      "needs_background": "light"
     },
     "output_type": "display_data"
    }
   ],
   "source": [
    "# Set the parameters\n",
    "num_channels1 = 16\n",
    "num_channels2 = 32\n",
    "num_classes = 26\n",
    "# Create the \"6 cells\" model\n",
    "model = CNNSimple6Cells(num_channels1, num_channels2, num_classes)\n",
    "\n",
    "# Optimizer\n",
    "num_epochs = 40\n",
    "loss_fn = nn.CrossEntropyLoss()\n",
    "learning_rate = 0.003\n",
    "\n",
    "# Training\n",
    "model, loss_total = train_model(model, train_dataloader, val_dataloader, num_epochs, loss_fn, learning_rate, device='cpu', verbose=True, model_name=\"6cells\", optim='Adam')\n",
    "\n",
    "# Save the model and display the loss over epochs\n",
    "torch.save(model.state_dict(), 'models/model_simple_6_cells.pt')\n",
    "\n",
    "# Plot the results and save the figure\n",
    "plt.plot(loss_total)\n",
    "plt.title(\"Loss for the 6cells model\")\n",
    "plt.xlabel(\"Epoch number\")\n",
    "plt.ylabel(\"CrossEntropyLoss\")\n",
    "plt.savefig(\"plots/model_simple_6cells_loss.png\") \n",
    "plt.show()"
   ]
  },
  {
   "cell_type": "code",
   "execution_count": 26,
   "metadata": {},
   "outputs": [
    {
     "name": "stdout",
     "output_type": "stream",
     "text": [
      "89.1025641025641\n"
     ]
    }
   ],
   "source": [
    "# Reloading the \"6 cells\" model\n",
    "model = CNNSimple6Cells(num_channels1, num_channels2, num_classes)\n",
    "# Load the parameters\n",
    "model.load_state_dict(torch.load('models/model_6cells_best.pt'))\n",
    "# Compute the accuracy\n",
    "res = eval_model(model, test_dataloader, device='cpu')\n",
    "print(res)"
   ]
  },
  {
   "cell_type": "markdown",
   "metadata": {},
   "source": [
    "The results are here again very satisfying (around 86% accuracy)"
   ]
  },
  {
   "cell_type": "code",
   "execution_count": 27,
   "metadata": {},
   "outputs": [],
   "source": [
    "# Fill dataframe with the results of this model\n",
    "all_results[\"Model\"].append(\"6cells\")\n",
    "all_results[\"Loss\"].append(\"CrossEntropyLoss\")\n",
    "all_results[\"Optimizer\"].append(\"Adam\")\n",
    "all_results[\"lr\"].append(learning_rate)\n",
    "all_results[\"Accuracy\"].append(res)"
   ]
  },
  {
   "cell_type": "markdown",
   "metadata": {},
   "source": [
    "# Third model"
   ]
  },
  {
   "cell_type": "markdown",
   "metadata": {},
   "source": [
    "Our last model is also based on the fact that Braille is using 6 dots, but this time it maps the dot pattern to a letter, through a binary pattern."
   ]
  },
  {
   "cell_type": "code",
   "execution_count": 28,
   "metadata": {},
   "outputs": [],
   "source": [
    "# Create a map between letters and braille alphabet\n",
    "# 1 is a black dot\n",
    "# 0 is a white dot \n",
    "braille_map = {\"a\":\"100000\", \"b\":\"110000\", \"c\":\"100100\", \"d\":\"100110\", \"e\":\"100010\",\n",
    "               \"f\":\"110100\", \"g\":\"110110\", \"h\":\"110010\", \"i\":\"010100\", \"j\":\"101000\",\n",
    "               \"k\":\"111000\", \"l\":\"101100\", \"m\":\"101110\", \"n\":\"101110\", \"o\":\"101010\",\n",
    "               \"p\":\"111100\", \"q\":\"111110\", \"r\":\"111010\", \"s\":\"011100\", \"t\":\"011110\",\n",
    "               \"u\":\"101001\", \"v\":\"111001\", \"w\":\"010111\", \"x\":\"101101\", \"y\":\"101111\",\n",
    "               \"z\":\"101011\"}"
   ]
  },
  {
   "cell_type": "code",
   "execution_count": 29,
   "metadata": {},
   "outputs": [],
   "source": [
    "# Create the reverted map to go from dots to letters\n",
    "braille_map_rev = {v:k for k, v in braille_map.items()}"
   ]
  },
  {
   "cell_type": "code",
   "execution_count": 30,
   "metadata": {},
   "outputs": [],
   "source": [
    "# Define a CNN classifier module.\n",
    "\n",
    "class CNNSimple6CellsMap(nn.Module):\n",
    "    def __init__(self, num_channels1=16, num_channels2=32):\n",
    "        \"\"\"Models a classifier using the bit strings\"\"\"\n",
    "        super(CNNSimple6CellsMap, self).__init__()\n",
    "        \n",
    "        # Create two sequential layers with convolution, ReLU, BatchNorm and Max Pooling\n",
    "        self.l1 = nn.Sequential(nn.Conv2d(3, num_channels1, kernel_size=5, padding=2),\n",
    "                           nn.ReLU(),\n",
    "                           nn.BatchNorm2d(16),\n",
    "                           nn.MaxPool2d(kernel_size=2))\n",
    "        self.l2 = nn.Sequential(nn.Conv2d(num_channels1, num_channels2, kernel_size=5, padding=2),\n",
    "                           nn.ReLU(),\n",
    "                           nn.BatchNorm2d(32),\n",
    "                           nn.MaxPool2d(kernel_size=2))\n",
    "        \n",
    "        size_vec = 1568\n",
    "        \n",
    "        # Create linear and sigmoid functions\n",
    "        self.res = nn.Linear(size_vec, 6)\n",
    "        self.finact = nn.Sigmoid()\n",
    "        \n",
    "    def forward(self, x):\n",
    "        \"\"\"Move from the input layers to the output layer\"\"\"\n",
    "        x = self.l2(self.l1(x))\n",
    "        x = x.reshape(x.shape[0], -1)\n",
    "        out = self.finact(self.res(x))\n",
    "        if self.training:\n",
    "            return out\n",
    "        else:\n",
    "            res = []\n",
    "            for t in out:\n",
    "                key = \"\".join(map(lambda a: str(a.item()), torch.round(t).long()))\n",
    "                if key not in braille_map_rev:\n",
    "                    res.append(0)\n",
    "                    continue\n",
    "                res.append(dataset.letter_to_number(braille_map_rev[key]))\n",
    "            res = nn.functional.one_hot(torch.tensor(res), num_classes=26)\n",
    "            return res"
   ]
  },
  {
   "cell_type": "markdown",
   "metadata": {},
   "source": [
    "## Experiments"
   ]
  },
  {
   "cell_type": "code",
   "execution_count": 31,
   "metadata": {},
   "outputs": [
    {
     "name": "stdout",
     "output_type": "stream",
     "text": [
      "\n",
      "New best accuracy!  49.35897435897436\n",
      "Epoch [1/40], Loss: 63.2293\n",
      "New best accuracy!  52.56410256410256\n",
      "Epoch [2/40], Loss: 44.6455\n",
      "New best accuracy!  55.12820512820513\n",
      "Epoch [3/40], Loss: 37.4254\n",
      "New best accuracy!  57.05128205128205\n",
      "Epoch [4/40], Loss: 31.5540\n",
      "New best accuracy!  64.1025641025641\n",
      "Epoch [6/40], Loss: 24.0302\n",
      "New best accuracy!  66.66666666666667\n",
      "Epoch [7/40], Loss: 20.6169\n",
      "New best accuracy!  67.94871794871794\n",
      "Epoch [8/40], Loss: 18.2016\n",
      "New best accuracy!  69.87179487179488\n",
      "Epoch [9/40], Loss: 16.0873\n",
      "New best accuracy!  71.7948717948718\n",
      "Epoch [10/40], Loss: 14.0751\n",
      "New best accuracy!  73.71794871794872\n",
      "Epoch [12/40], Loss: 10.2745\n",
      "New best accuracy!  76.28205128205128\n",
      "Epoch [17/40], Loss: 5.3701\n",
      "New best accuracy!  76.92307692307692\n",
      "Epoch [18/40], Loss: 4.8415\n",
      "New best accuracy!  77.56410256410257\n",
      "Epoch [19/40], Loss: 4.1925\n",
      "New best accuracy!  78.84615384615384\n",
      "Epoch [29/40], Loss: 1.4849\n",
      "New best accuracy!  80.12820512820512\n",
      "Epoch [40/40], Loss: 0.8517"
     ]
    },
    {
     "data": {
      "image/png": "[encoded data removed]",
      "text/plain": [
       "<Figure size 432x288 with 1 Axes>"
      ]
     },
     "metadata": {
      "needs_background": "light"
     },
     "output_type": "display_data"
    }
   ],
   "source": [
    "# Set the parameters\n",
    "num_channels1 = 16\n",
    "num_channels2 = 32\n",
    "num_classes = 26\n",
    "# Create the \"6 cells + map\" model\n",
    "model = CNNSimple6CellsMap(num_channels1, num_channels2)\n",
    "\n",
    "# Optimizer\n",
    "num_epochs = 40\n",
    "loss_fn = nn.BCELoss()\n",
    "learning_rate = 0.01\n",
    "\n",
    "# Training\n",
    "model, loss_total = train_model(model, train_dataloader, val_dataloader, num_epochs, loss_fn, learning_rate, device='cpu', verbose=True, model_name=\"6cells_map\", optim='SGD', cells=True)\n",
    "\n",
    "# Save the model and display the loss over epochs\n",
    "torch.save(model.state_dict(), 'models/model_6_cells_map.pt')\n",
    "\n",
    "# Plot the results and save the figure\n",
    "plt.title(\"Loss for the 6cells + map model\")\n",
    "plt.xlabel(\"Epoch number\")\n",
    "plt.ylabel(\"BCELoss\")\n",
    "\n",
    "plt.plot(loss_total)\n",
    "plt.savefig(\"plots/model_simple_6cells_map_loss.png\") \n",
    "plt.show()"
   ]
  },
  {
   "cell_type": "code",
   "execution_count": 32,
   "metadata": {},
   "outputs": [
    {
     "name": "stdout",
     "output_type": "stream",
     "text": [
      "81.41025641025641\n"
     ]
    }
   ],
   "source": [
    "# Reloading the \"6 cells + map\" model\n",
    "model = CNNSimple6CellsMap(num_channels1, num_channels2)\n",
    "# Load the parameters\n",
    "model.load_state_dict(torch.load('models/model_6cells_map_best.pt'))\n",
    "# Compute the accuracy\n",
    "res = eval_model(model, test_dataloader, device='cpu')\n",
    "print(res)"
   ]
  },
  {
   "cell_type": "markdown",
   "metadata": {},
   "source": [
    "The accuracy is around 80%, which is in accordance with the two first models."
   ]
  },
  {
   "cell_type": "code",
   "execution_count": 33,
   "metadata": {},
   "outputs": [],
   "source": [
    "# Fill dataframe with the results of this model\n",
    "all_results[\"Model\"].append(\"6cells_map\")\n",
    "all_results[\"Loss\"].append(\"BCELoss\")\n",
    "all_results[\"Optimizer\"].append(\"SGD\")\n",
    "all_results[\"lr\"].append(learning_rate)\n",
    "all_results[\"Accuracy\"].append(res)"
   ]
  },
  {
   "cell_type": "markdown",
   "metadata": {},
   "source": [
    "We then put all our results in a dataframe:"
   ]
  },
  {
   "cell_type": "code",
   "execution_count": 34,
   "metadata": {},
   "outputs": [],
   "source": [
    "df_results = pd.DataFrame(all_results)"
   ]
  },
  {
   "cell_type": "markdown",
   "metadata": {},
   "source": [
    "And convert this dataframe to a csv file:"
   ]
  },
  {
   "cell_type": "code",
   "execution_count": 35,
   "metadata": {},
   "outputs": [],
   "source": [
    "df_results.to_csv(\"evaluation_results.csv\")"
   ]
  },
  {
   "cell_type": "code",
   "execution_count": 36,
   "metadata": {},
   "outputs": [
    {
     "data": {
      "text/html": [
       "<div>\n",
       "<style scoped>\n",
       "    .dataframe tbody tr th:only-of-type {\n",
       "        vertical-align: middle;\n",
       "    }\n",
       "\n",
       "    .dataframe tbody tr th {\n",
       "        vertical-align: top;\n",
       "    }\n",
       "\n",
       "    .dataframe thead th {\n",
       "        text-align: right;\n",
       "    }\n",
       "</style>\n",
       "<table border=\"1\" class=\"dataframe\">\n",
       "  <thead>\n",
       "    <tr style=\"text-align: right;\">\n",
       "      <th></th>\n",
       "      <th>Model</th>\n",
       "      <th>Loss</th>\n",
       "      <th>Optimizer</th>\n",
       "      <th>lr</th>\n",
       "      <th>Accuracy</th>\n",
       "    </tr>\n",
       "  </thead>\n",
       "  <tbody>\n",
       "    <tr>\n",
       "      <th>0</th>\n",
       "      <td>simple</td>\n",
       "      <td>CrossEntropyLoss</td>\n",
       "      <td>SGD</td>\n",
       "      <td>0.001</td>\n",
       "      <td>79.487179</td>\n",
       "    </tr>\n",
       "    <tr>\n",
       "      <th>1</th>\n",
       "      <td>6cells</td>\n",
       "      <td>CrossEntropyLoss</td>\n",
       "      <td>Adam</td>\n",
       "      <td>0.003</td>\n",
       "      <td>89.102564</td>\n",
       "    </tr>\n",
       "    <tr>\n",
       "      <th>2</th>\n",
       "      <td>6cells_map</td>\n",
       "      <td>BCELoss</td>\n",
       "      <td>SGD</td>\n",
       "      <td>0.010</td>\n",
       "      <td>81.410256</td>\n",
       "    </tr>\n",
       "  </tbody>\n",
       "</table>\n",
       "</div>"
      ],
      "text/plain": [
       "        Model              Loss Optimizer     lr   Accuracy\n",
       "0      simple  CrossEntropyLoss       SGD  0.001  79.487179\n",
       "1      6cells  CrossEntropyLoss      Adam  0.003  89.102564\n",
       "2  6cells_map           BCELoss       SGD  0.010  81.410256"
      ]
     },
     "execution_count": 36,
     "metadata": {},
     "output_type": "execute_result"
    }
   ],
   "source": [
    "df_results"
   ]
  },
  {
   "cell_type": "markdown",
   "metadata": {},
   "source": [
    "We finally load this csv to display it:"
   ]
  },
  {
   "cell_type": "code",
   "execution_count": 37,
   "metadata": {},
   "outputs": [
    {
     "data": {
      "text/html": [
       "<div>\n",
       "<style scoped>\n",
       "    .dataframe tbody tr th:only-of-type {\n",
       "        vertical-align: middle;\n",
       "    }\n",
       "\n",
       "    .dataframe tbody tr th {\n",
       "        vertical-align: top;\n",
       "    }\n",
       "\n",
       "    .dataframe thead th {\n",
       "        text-align: right;\n",
       "    }\n",
       "</style>\n",
       "<table border=\"1\" class=\"dataframe\">\n",
       "  <thead>\n",
       "    <tr style=\"text-align: right;\">\n",
       "      <th></th>\n",
       "      <th>Model</th>\n",
       "      <th>Loss</th>\n",
       "      <th>Optimizer</th>\n",
       "      <th>lr</th>\n",
       "      <th>Accuracy</th>\n",
       "    </tr>\n",
       "  </thead>\n",
       "  <tbody>\n",
       "    <tr>\n",
       "      <th>0</th>\n",
       "      <td>simple</td>\n",
       "      <td>CrossEntropyLoss</td>\n",
       "      <td>SGD</td>\n",
       "      <td>0.001</td>\n",
       "      <td>79.487179</td>\n",
       "    </tr>\n",
       "    <tr>\n",
       "      <th>1</th>\n",
       "      <td>6cells</td>\n",
       "      <td>CrossEntropyLoss</td>\n",
       "      <td>Adam</td>\n",
       "      <td>0.003</td>\n",
       "      <td>89.102564</td>\n",
       "    </tr>\n",
       "    <tr>\n",
       "      <th>2</th>\n",
       "      <td>6cells_map</td>\n",
       "      <td>BCELoss</td>\n",
       "      <td>SGD</td>\n",
       "      <td>0.010</td>\n",
       "      <td>81.410256</td>\n",
       "    </tr>\n",
       "  </tbody>\n",
       "</table>\n",
       "</div>"
      ],
      "text/plain": [
       "        Model              Loss Optimizer     lr   Accuracy\n",
       "0      simple  CrossEntropyLoss       SGD  0.001  79.487179\n",
       "1      6cells  CrossEntropyLoss      Adam  0.003  89.102564\n",
       "2  6cells_map           BCELoss       SGD  0.010  81.410256"
      ]
     },
     "execution_count": 37,
     "metadata": {},
     "output_type": "execute_result"
    }
   ],
   "source": [
    "pd.read_csv(\"evaluation_results.csv\", index_col=0)"
   ]
  }
 ],
 "metadata": {
  "kernelspec": {
   "display_name": "Python 3 (ipykernel)",
   "language": "python",
   "name": "python3"
  },
  "language_info": {
   "codemirror_mode": {
    "name": "ipython",
    "version": 3
   },
   "file_extension": ".py",
   "mimetype": "text/x-python",
   "name": "python",
   "nbconvert_exporter": "python",
   "pygments_lexer": "ipython3",
   "version": "3.8.10"
  }
 },
 "nbformat": 4,
 "nbformat_minor": 4
}
