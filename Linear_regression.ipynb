{
  "nbformat": 4,
  "nbformat_minor": 0,
  "metadata": {
    "colab": {
      "name": "Projet-L3-BFTAL2 PEREIRA Cindy Régression Linéaire",
      "provenance": [],
      "collapsed_sections": []
    },
    "kernelspec": {
      "name": "python3",
      "display_name": "Python 3"
    }
  },
  "cells": [
    {
      "cell_type": "markdown",
      "metadata": {
        "id": "MkRMkVmaIpzT"
      },
      "source": [
        "#Projet modèles linéaires et analyse\n",
        "**Avant toute chose, assurez vous de copier ce notebook et de travailler uniquement sur votre copie personnelle**"
      ]
    },
    {
      "cell_type": "markdown",
      "metadata": {
        "id": "jbCwMGaoJAPp"
      },
      "source": [
        "Préambule\n",
        "---------"
      ]
    },
    {
      "cell_type": "markdown",
      "metadata": {
        "id": "Xt0ARBNQJDeG"
      },
      "source": [
        "Le projet utilisera le jeu de données `iris`. Le projet illustre le lien entre les méthodes formelles vues en cours et des méthodes classiques d'analyse de données qui utilisent le modèle de régression linéaire.\n",
        "\n",
        "\n"
      ]
    },
    {
      "cell_type": "markdown",
      "metadata": {
        "id": "AZZaGyezMOpM"
      },
      "source": [
        "Lecture des données\n",
        "--------"
      ]
    },
    {
      "cell_type": "markdown",
      "metadata": {
        "id": "Uu_w-MBENrZM"
      },
      "source": [
        "La première fonction consiste à lire le fichier de données. Celle-ci vous est donnée :"
      ]
    },
    {
      "cell_type": "code",
      "metadata": {
        "id": "_p3Wuek-OwXR",
        "colab": {
          "base_uri": "https://localhost:8080/",
          "height": 255
        },
        "outputId": "aae1fa00-e8c5-4d15-b58c-d4c5bba121ef"
      },
      "source": [
        "import numpy as np\n",
        "import pandas as pa\n",
        "\n",
        "def read_iris():\n",
        "  \"\"\"\n",
        "  Reads the dataset from its permanent web location\n",
        "  \"\"\"\n",
        "  url = \"https://archive.ics.uci.edu/ml/machine-learning-databases/iris/iris.data\"\n",
        "  new_names = ['sepal_length','sepal_width','petal_length','petal_width','iris_class']\n",
        "  dataset = pa.read_csv(url, names=new_names, skiprows=0, delimiter=',')\n",
        "  dataset.drop('iris_class',inplace=True,axis=1)  #removes the non numeric column\n",
        "  return dataset\n",
        "\n",
        "dataframe = read_iris()\n",
        "print(dataframe)"
      ],
      "execution_count": null,
      "outputs": [
        {
          "output_type": "stream",
          "text": [
            "     sepal_length  sepal_width  petal_length  petal_width\n",
            "0             5.1          3.5           1.4          0.2\n",
            "1             4.9          3.0           1.4          0.2\n",
            "2             4.7          3.2           1.3          0.2\n",
            "3             4.6          3.1           1.5          0.2\n",
            "4             5.0          3.6           1.4          0.2\n",
            "..            ...          ...           ...          ...\n",
            "145           6.7          3.0           5.2          2.3\n",
            "146           6.3          2.5           5.0          1.9\n",
            "147           6.5          3.0           5.2          2.0\n",
            "148           6.2          3.4           5.4          2.3\n",
            "149           5.9          3.0           5.1          1.8\n",
            "\n",
            "[150 rows x 4 columns]\n"
          ],
          "name": "stdout"
        }
      ]
    },
    {
      "cell_type": "markdown",
      "metadata": {
        "id": "J1KNwH1dNw1l"
      },
      "source": [
        "Le jeu de données lu est un objet de la classe `pandas.DataFrame`. \n",
        "Ce premier objet sera utile pour faire l'analyse de données.\n",
        "Pour obtenir un `array numpy` on utilise la conversion suivante : "
      ]
    },
    {
      "cell_type": "code",
      "metadata": {
        "id": "auxaXKwjTLA2",
        "colab": {
          "base_uri": "https://localhost:8080/",
          "height": 1000
        },
        "outputId": "08c5915e-a9bc-4d26-dc2d-1b6f2ed7f268"
      },
      "source": [
        "X = dataframe.to_numpy()\n",
        "print(X)   #correspond à la \"design matrix\" et à la notation des notes de cours "
      ],
      "execution_count": null,
      "outputs": [
        {
          "output_type": "stream",
          "text": [
            "[[5.1 3.5 1.4 0.2]\n",
            " [4.9 3.  1.4 0.2]\n",
            " [4.7 3.2 1.3 0.2]\n",
            " [4.6 3.1 1.5 0.2]\n",
            " [5.  3.6 1.4 0.2]\n",
            " [5.4 3.9 1.7 0.4]\n",
            " [4.6 3.4 1.4 0.3]\n",
            " [5.  3.4 1.5 0.2]\n",
            " [4.4 2.9 1.4 0.2]\n",
            " [4.9 3.1 1.5 0.1]\n",
            " [5.4 3.7 1.5 0.2]\n",
            " [4.8 3.4 1.6 0.2]\n",
            " [4.8 3.  1.4 0.1]\n",
            " [4.3 3.  1.1 0.1]\n",
            " [5.8 4.  1.2 0.2]\n",
            " [5.7 4.4 1.5 0.4]\n",
            " [5.4 3.9 1.3 0.4]\n",
            " [5.1 3.5 1.4 0.3]\n",
            " [5.7 3.8 1.7 0.3]\n",
            " [5.1 3.8 1.5 0.3]\n",
            " [5.4 3.4 1.7 0.2]\n",
            " [5.1 3.7 1.5 0.4]\n",
            " [4.6 3.6 1.  0.2]\n",
            " [5.1 3.3 1.7 0.5]\n",
            " [4.8 3.4 1.9 0.2]\n",
            " [5.  3.  1.6 0.2]\n",
            " [5.  3.4 1.6 0.4]\n",
            " [5.2 3.5 1.5 0.2]\n",
            " [5.2 3.4 1.4 0.2]\n",
            " [4.7 3.2 1.6 0.2]\n",
            " [4.8 3.1 1.6 0.2]\n",
            " [5.4 3.4 1.5 0.4]\n",
            " [5.2 4.1 1.5 0.1]\n",
            " [5.5 4.2 1.4 0.2]\n",
            " [4.9 3.1 1.5 0.1]\n",
            " [5.  3.2 1.2 0.2]\n",
            " [5.5 3.5 1.3 0.2]\n",
            " [4.9 3.1 1.5 0.1]\n",
            " [4.4 3.  1.3 0.2]\n",
            " [5.1 3.4 1.5 0.2]\n",
            " [5.  3.5 1.3 0.3]\n",
            " [4.5 2.3 1.3 0.3]\n",
            " [4.4 3.2 1.3 0.2]\n",
            " [5.  3.5 1.6 0.6]\n",
            " [5.1 3.8 1.9 0.4]\n",
            " [4.8 3.  1.4 0.3]\n",
            " [5.1 3.8 1.6 0.2]\n",
            " [4.6 3.2 1.4 0.2]\n",
            " [5.3 3.7 1.5 0.2]\n",
            " [5.  3.3 1.4 0.2]\n",
            " [7.  3.2 4.7 1.4]\n",
            " [6.4 3.2 4.5 1.5]\n",
            " [6.9 3.1 4.9 1.5]\n",
            " [5.5 2.3 4.  1.3]\n",
            " [6.5 2.8 4.6 1.5]\n",
            " [5.7 2.8 4.5 1.3]\n",
            " [6.3 3.3 4.7 1.6]\n",
            " [4.9 2.4 3.3 1. ]\n",
            " [6.6 2.9 4.6 1.3]\n",
            " [5.2 2.7 3.9 1.4]\n",
            " [5.  2.  3.5 1. ]\n",
            " [5.9 3.  4.2 1.5]\n",
            " [6.  2.2 4.  1. ]\n",
            " [6.1 2.9 4.7 1.4]\n",
            " [5.6 2.9 3.6 1.3]\n",
            " [6.7 3.1 4.4 1.4]\n",
            " [5.6 3.  4.5 1.5]\n",
            " [5.8 2.7 4.1 1. ]\n",
            " [6.2 2.2 4.5 1.5]\n",
            " [5.6 2.5 3.9 1.1]\n",
            " [5.9 3.2 4.8 1.8]\n",
            " [6.1 2.8 4.  1.3]\n",
            " [6.3 2.5 4.9 1.5]\n",
            " [6.1 2.8 4.7 1.2]\n",
            " [6.4 2.9 4.3 1.3]\n",
            " [6.6 3.  4.4 1.4]\n",
            " [6.8 2.8 4.8 1.4]\n",
            " [6.7 3.  5.  1.7]\n",
            " [6.  2.9 4.5 1.5]\n",
            " [5.7 2.6 3.5 1. ]\n",
            " [5.5 2.4 3.8 1.1]\n",
            " [5.5 2.4 3.7 1. ]\n",
            " [5.8 2.7 3.9 1.2]\n",
            " [6.  2.7 5.1 1.6]\n",
            " [5.4 3.  4.5 1.5]\n",
            " [6.  3.4 4.5 1.6]\n",
            " [6.7 3.1 4.7 1.5]\n",
            " [6.3 2.3 4.4 1.3]\n",
            " [5.6 3.  4.1 1.3]\n",
            " [5.5 2.5 4.  1.3]\n",
            " [5.5 2.6 4.4 1.2]\n",
            " [6.1 3.  4.6 1.4]\n",
            " [5.8 2.6 4.  1.2]\n",
            " [5.  2.3 3.3 1. ]\n",
            " [5.6 2.7 4.2 1.3]\n",
            " [5.7 3.  4.2 1.2]\n",
            " [5.7 2.9 4.2 1.3]\n",
            " [6.2 2.9 4.3 1.3]\n",
            " [5.1 2.5 3.  1.1]\n",
            " [5.7 2.8 4.1 1.3]\n",
            " [6.3 3.3 6.  2.5]\n",
            " [5.8 2.7 5.1 1.9]\n",
            " [7.1 3.  5.9 2.1]\n",
            " [6.3 2.9 5.6 1.8]\n",
            " [6.5 3.  5.8 2.2]\n",
            " [7.6 3.  6.6 2.1]\n",
            " [4.9 2.5 4.5 1.7]\n",
            " [7.3 2.9 6.3 1.8]\n",
            " [6.7 2.5 5.8 1.8]\n",
            " [7.2 3.6 6.1 2.5]\n",
            " [6.5 3.2 5.1 2. ]\n",
            " [6.4 2.7 5.3 1.9]\n",
            " [6.8 3.  5.5 2.1]\n",
            " [5.7 2.5 5.  2. ]\n",
            " [5.8 2.8 5.1 2.4]\n",
            " [6.4 3.2 5.3 2.3]\n",
            " [6.5 3.  5.5 1.8]\n",
            " [7.7 3.8 6.7 2.2]\n",
            " [7.7 2.6 6.9 2.3]\n",
            " [6.  2.2 5.  1.5]\n",
            " [6.9 3.2 5.7 2.3]\n",
            " [5.6 2.8 4.9 2. ]\n",
            " [7.7 2.8 6.7 2. ]\n",
            " [6.3 2.7 4.9 1.8]\n",
            " [6.7 3.3 5.7 2.1]\n",
            " [7.2 3.2 6.  1.8]\n",
            " [6.2 2.8 4.8 1.8]\n",
            " [6.1 3.  4.9 1.8]\n",
            " [6.4 2.8 5.6 2.1]\n",
            " [7.2 3.  5.8 1.6]\n",
            " [7.4 2.8 6.1 1.9]\n",
            " [7.9 3.8 6.4 2. ]\n",
            " [6.4 2.8 5.6 2.2]\n",
            " [6.3 2.8 5.1 1.5]\n",
            " [6.1 2.6 5.6 1.4]\n",
            " [7.7 3.  6.1 2.3]\n",
            " [6.3 3.4 5.6 2.4]\n",
            " [6.4 3.1 5.5 1.8]\n",
            " [6.  3.  4.8 1.8]\n",
            " [6.9 3.1 5.4 2.1]\n",
            " [6.7 3.1 5.6 2.4]\n",
            " [6.9 3.1 5.1 2.3]\n",
            " [5.8 2.7 5.1 1.9]\n",
            " [6.8 3.2 5.9 2.3]\n",
            " [6.7 3.3 5.7 2.5]\n",
            " [6.7 3.  5.2 2.3]\n",
            " [6.3 2.5 5.  1.9]\n",
            " [6.5 3.  5.2 2. ]\n",
            " [6.2 3.4 5.4 2.3]\n",
            " [5.9 3.  5.1 1.8]]\n"
          ],
          "name": "stdout"
        }
      ]
    },
    {
      "cell_type": "markdown",
      "metadata": {
        "id": "wWWKflovULNF"
      },
      "source": [
        "Implémenter le modèle de régression linéaire\n",
        "-------------\n",
        "La première partie du projet consiste à implémenter un modèle de régression linéaire en utilisant les algorithmes présentés dans le chapitre 9 du cours : \n",
        "algorithme de Newton et algorithme de descente de gradient. De plus on demandera de tester également un algorithme issu de la librairie `numpy`. Les signatures de fonctions à implanter sont les suivantes:\n"
      ]
    },
    {
      "cell_type": "code",
      "metadata": {
        "id": "XINKs9ORWlYS",
        "colab": {
          "base_uri": "https://localhost:8080/",
          "height": 408
        },
        "outputId": "38f4a994-384f-4e78-82ab-ff78e7c22ece"
      },
      "source": [
        "#useful imports for the exercise:\n",
        "#     norm computes the norm of a vector \n",
        "#     inv computes the inverse of a matrix\n",
        "#     lstsq is a predefined function in numpy that already implements least squares regresssion and can be used for checking your solution \n",
        "# you have to find out in the online documentation how to use them\n",
        "\n",
        "from numpy.linalg import norm,inv,lstsq\n",
        "from numpy.random import random # (optional) generates random vectors\n",
        "\n",
        "\n",
        "#Exercises to fill in...\n",
        "\n",
        "def leastsq_newton(x,y,prec,add_bias=True):\n",
        "  \"\"\"\n",
        "  Args: \n",
        "     X (np.array): design matrix, input values\n",
        "     y (np.array): reference output values (vector) \n",
        "     prec (float): the precision for the stopping criterion\n",
        "     add_bias    : if false we model functions of the form f(x) = ax_1 + ... + ax_k \n",
        "                   if true we model functions of the form  f(x) = ax_1 + ... + ax_k + b\n",
        "  Returns:\n",
        "     np.array : the vector theta of parameters\n",
        "  \"\"\"\n",
        "  x_trans = np.transpose(x)\n",
        "  h = np.linalg.inv(np.matmul(x_trans,x))\n",
        "  theta = np.zeros(len(x_trans))\n",
        "  theta1 = np.ones(len(x_trans))\n",
        "  i = 0\n",
        "  while norm(theta1 - theta) > prec :\n",
        "    l = np.matmul(x_trans, np.matmul(x, theta) - y)\n",
        "    theta, theta1 = theta1, theta - np.matmul(h,l)\n",
        "    i += 1\n",
        "    print(i, l)\n",
        "  print()\n",
        "  return theta1\n",
        "\n",
        "def leastsq_gradient(x,y,alpha0,prec,add_bias=True):\n",
        "  '''\n",
        "  Args: \n",
        "     X (np.array)  : design matrix, input values\n",
        "     y (np.array)  : reference output values (vector) \n",
        "     alpha0 (float): pas de gradient\n",
        "     prec (float)  : the precision for the stopping criterion\n",
        "     add_bias      : if false we model functions of the form f(x) = ax_1 + ... + ax_k \n",
        "                     if true we model functions of the form  f(x) = ax_1 + ... + ax_k + b\n",
        "  Returns:\n",
        "     np.array : the vector theta of parameters\n",
        "  '''\n",
        "  x_trans = np.transpose(x)\n",
        "  theta = np.zeros(len(x_trans))\n",
        "  theta1 = np.ones(len(x_trans))\n",
        "  i, alpha = 0, alpha0\n",
        "  while norm(theta1 - theta) > prec :\n",
        "    l = np.matmul(x_trans, np.matmul(x, theta) - y)\n",
        "    tmp = theta1\n",
        "    theta1 = theta - alpha*l\n",
        "    theta = tmp\n",
        "    #print(i, l)\n",
        "    i += 1\n",
        "  return theta1\n",
        "\n",
        "\n",
        "\n",
        "#sepal_length  sepal_width  petal_length  petal_width\n",
        "sepal_length = X[:,0]\n",
        "sepal_width = X[:,1]\n",
        "petal_length = X[:,2]\n",
        "petal_width = X[:,3]\n",
        "\n",
        "x1 = np.vstack([sepal_width, np.ones(len(X))]).T\n",
        "y1 = np.array(sepal_length)\n",
        "lstsq1 = np.linalg.lstsq(x1,y1, rcond=None)[0]\n",
        "newton1 = leastsq_newton(x1, y1, 0.1)\n",
        "gradient1 = leastsq_gradient(x1, y1, 0.0001, 0.000000001)\n",
        "\n",
        "x2 = np.vstack([petal_width, np.ones(len(X))]).T\n",
        "y2 = np.array(petal_length)\n",
        "lstsq2 = np.linalg.lstsq(x2,y2, rcond=None)[0]\n",
        "newton2 = leastsq_newton(x2, y2, 0.1)\n",
        "gradient2 = leastsq_gradient(x2, y2, 0.0001, 0.000000001)\n",
        "\n",
        "x3 = np.vstack([petal_width, sepal_length, sepal_width, np.ones(len(X))]).T\n",
        "y3 = y2\n",
        "lstsq3 = np.linalg.lstsq(x3,y3, rcond=None)[0]\n",
        "newton3 = leastsq_newton(x3, y3, 0.1)\n",
        "gradient3 = leastsq_gradient(x3, y3, 0.0001, 0.000000001)\n",
        "\n",
        "\n",
        "print(\"Modèle sepal_length = a * sepal_width + b\")\n",
        "print(\"Fonction Python lstsq :\", lstsq1)\n",
        "print(\"Fonction écrite Newton :\", newton1)\n",
        "print(\"Fonction écrite Gradient :\", gradient1)\n",
        "print()\n",
        "\n",
        "print(\"Modèle petal_length = a * petal_width + b\")\n",
        "print(\"Fonction Python lstsq :\", lstsq2)\n",
        "print(\"Fonction écrite Newton :\", newton2)\n",
        "print(\"Fonction écrite Gradient :\", gradient2)\n",
        "print()\n",
        "\n",
        "print(\"Modèle petal_length = a_1 * petal_width + a_2 * sepal_length + a_3 * sepal_width + b\")\n",
        "print(\"Fonction Python lstsq :\", lstsq3)\n",
        "print(\"Fonction écrite Newton :\", newton3)\n",
        "print(\"Fonction écrite Gradient :\", gradient3)"
      ],
      "execution_count": null,
      "outputs": [
        {
          "output_type": "stream",
          "text": [
            "1 [-2670.98  -876.5 ]\n",
            "2 [-785.83 -268.4 ]\n",
            "\n",
            "1 [-868.97 -563.8 ]\n",
            "2 [-386.87 -234.  ]\n",
            "\n",
            "1 [ -868.97 -3484.25 -1673.91  -563.8 ]\n",
            "2 [1272.31 6414.73 3413.75 1100.6 ]\n",
            "\n",
            "Modèle sepal_length = a * sepal_width + b\n",
            "Fonction Python lstsq : [-0.20887029  6.48122321]\n",
            "Fonction écrite Newton : [-0.20887029  6.48122321]\n",
            "Fonction écrite Gradient : [-0.20887029  6.4812232 ]\n",
            "\n",
            "Modèle petal_length = a * petal_width + b\n",
            "Fonction Python lstsq : [2.22588531 1.09057215]\n",
            "Fonction écrite Newton : [2.22588531 1.09057215]\n",
            "Fonction écrite Gradient : [2.22588531 1.09057215]\n",
            "\n",
            "Modèle petal_length = a_1 * petal_width + a_2 * sepal_length + a_3 * sepal_width + b\n",
            "Fonction Python lstsq : [ 1.44571962  0.7303629  -0.65139445 -0.25266445]\n",
            "Fonction écrite Newton : [ 1.44571962  0.7303629  -0.65139445 -0.25266445]\n",
            "Fonction écrite Gradient : [ 1.44571962  0.7303629  -0.65139445 -0.25266445]\n"
          ],
          "name": "stdout"
        }
      ]
    },
    {
      "cell_type": "markdown",
      "metadata": {
        "id": "WQwQFKTwY06C"
      },
      "source": [
        "Testez votre implémentation à l'aide des modèles suivants :\n",
        "* `sepal_length = a * sepal_width + b `\n",
        "* `petal_length = a * petal_width + b `\n",
        "* `petal_length = a_1 * petal_width + a_2 * sepal_length + a_3 * sepal_width + b`\n",
        "\n",
        "Chaque modèle sera testé à l'aide de vos fonctions `leastsq_newton` et `leastsq_gradient`. Il est demandé d'afficher au moins à chaque itération le numéro d'itération et la valeur de la fonction de perte. C'est une bonne idée d'afficher la valeur des paramètres optimisés. \n",
        "\n",
        "Pour la méthode de descente de gradient vous allez devoir ajuster le pas de gradient *alpha*. Si vous choisissez de faire varier *alpha* au cours des iterations, il est conseillé de l'afficher également à chaque itération.\n",
        "\n",
        "Finalement on peut utiliser les résultats de la fonction numpy `lstsq` comme référentiel de correction ([documentation](https://docs.scipy.org/doc/numpy/reference/generated/numpy.linalg.lstsq.html)). Cette documentation donne également une piste sérieuse sur la méthode à utiliser pour créer le biais."
      ]
    },
    {
      "cell_type": "markdown",
      "metadata": {
        "id": "jUF5LA_LdGm4"
      },
      "source": [
        "La fonction de descente de gradient est plus lente que Newton, cependant les résultats sont plutôt similaires. Je ne sais pas cependant à quoi correspond l'espace dans `6.4812232 ]` et pourquoi il se trouve ici. \n",
        "J'ai souhaité faire varier alpha au cours des itérations, cependant cela ne fonctionnait pas. J'ai donc décidé de garder le même alpha tout au long de la fonction.\n",
        "Comme il y a (vraiment) beaucoup d'itérations sur la fonction de descente de gradient, l'affichage à chaque itération était très peu lisible. J'ai par conséquent commenté mes print afin que vous puissiez les afficher si vous le souhaitez.\n"
      ]
    },
    {
      "cell_type": "markdown",
      "metadata": {
        "id": "OydbPFVOdSEj"
      },
      "source": [
        "Interprétation des coefficients\n",
        "-----------------\n"
      ]
    },
    {
      "cell_type": "markdown",
      "metadata": {
        "id": "kLw5DaOXdqCe"
      },
      "source": [
        "Ce dernier exercice vous fait découvrir le potentiel d'interprétation des paramètres d'un modèle de régression linéaire en analyse de données.\n",
        "Il illustre aussi certaines limitations"
      ]
    },
    {
      "cell_type": "markdown",
      "metadata": {
        "id": "ZWowsxvie92n"
      },
      "source": [
        "Considérons à nouveau les deux modèles :\n",
        "*  `sepal_length = a * sepal_width + b`\n",
        "*  `petal_length = a * petal_width + b`\n",
        "\n",
        "En utilisant `matplotlib` faire les graphiques (nuages de points) suivants :\n",
        "*  `sepal_length` en fonction de `sepal_width`\n",
        "*  `petal_length` en fonction de `petal_width`\n"
      ]
    },
    {
      "cell_type": "code",
      "metadata": {
        "id": "mvhDJew6c_dQ"
      },
      "source": [
        "import matplotlib.pyplot as plt\n",
        "plt.style.use('ggplot')\n",
        "# pour comparer des graphiques, il est en général impératif que les échelles correspondent\n",
        "# est-ce le cas par défaut ? si non, lire la doc matplotlib (https://matplotlib.org/users, xlim, ylim) \n",
        "# et trouver comment faire pour imposer une échelle aux graphiques."
      ],
      "execution_count": null,
      "outputs": []
    },
    {
      "cell_type": "code",
      "metadata": {
        "id": "KbWVHX-OWLCz",
        "colab": {
          "base_uri": "https://localhost:8080/",
          "height": 299
        },
        "outputId": "de9162b4-1a31-40e0-e9bb-7872659cd688"
      },
      "source": [
        "plt.plot(sepal_width, sepal_length, 'o', label='Original data', markersize=10)\n",
        "al, bl = lstsq1\n",
        "plt.plot(x1, al*x1 + bl, 'r', label='Fitted line')\n",
        "plt.title('sepal_length en fonction de sepal_width')\n",
        "plt.xlabel('sepal_width')\n",
        "plt.ylabel('sepal_length')\n",
        "plt.xlim(0,4.5)\n",
        "plt.ylim(0,8)\n",
        "plt.show()"
      ],
      "execution_count": null,
      "outputs": [
        {
          "output_type": "display_data",
          "data": {
            "image/png": "[encoded data removed]",
            "text/plain": [
              "<Figure size 432x288 with 1 Axes>"
            ]
          },
          "metadata": {
            "tags": []
          }
        }
      ]
    },
    {
      "cell_type": "code",
      "metadata": {
        "id": "9fm-ZTwPWKQh",
        "colab": {
          "base_uri": "https://localhost:8080/",
          "height": 299
        },
        "outputId": "6db74922-d574-4af7-81a7-309ce66fbf9e"
      },
      "source": [
        "plt.plot(petal_width, petal_length, 'o', label='Original data', markersize=10)\n",
        "a2l, b2l = lstsq2\n",
        "plt.plot(x2, a2l*x2 + b2l, 'r', label='Fitted line')\n",
        "plt.title('petal_length en fonction de petal_width')\n",
        "plt.xlabel('petal_width')\n",
        "plt.ylabel('petal_length')\n",
        "plt.xlim(0,4.5)\n",
        "plt.ylim(0,8)\n",
        "plt.show()"
      ],
      "execution_count": null,
      "outputs": [
        {
          "output_type": "display_data",
          "data": {
            "image/png": "[encoded data removed]",
            "text/plain": [
              "<Figure size 432x288 with 1 Axes>"
            ]
          },
          "metadata": {
            "tags": []
          }
        }
      ]
    },
    {
      "cell_type": "markdown",
      "metadata": {
        "id": "LSx5RjNfWZSd"
      },
      "source": [
        "En vous rappelant la théorie, ou en comparant la valeur des paramètres des modèles et l'allure des nuages de points correspondants, pouvez-vous identifier un lien qui permettrait d'interpréter les paramètres du modèle de régression ? (vous pouvez vous inspirer de la documentation de `lstsq` [ici](https://docs.scipy.org/doc/numpy/reference/generated/numpy.linalg.lstsq.html))"
      ]
    },
    {
      "cell_type": "markdown",
      "metadata": {
        "id": "KF9BbdgshVKJ"
      },
      "source": [
        "On remarque que lorsque dans le modèle petal_length en fonction de petal_width, les valeurs semblent (à peu près) proportionnelles. En revanche, ce n'est pas le cas dans le modèle de sepal_length en fonction de sepal_width.\n",
        "\n"
      ]
    },
    {
      "cell_type": "markdown",
      "metadata": {
        "id": "_r58vFxyhdLS"
      },
      "source": [
        "Considérons à nouveau le modèle :\n",
        "* `petal_length = a_1 * petal_width + a_2 * sepal_length + a_3 * sepal_width + b`\n",
        "\n",
        "Les coefficients de `sepal_width` et `petal_width` sont-ils les mêmes que dans les cas précédents ? comment expliquer la différence ?"
      ]
    },
    {
      "cell_type": "markdown",
      "metadata": {
        "id": "oFoGbEKNmOxX"
      },
      "source": [
        "Les coefficients sont différents car il y a plus de paramètres, et l'agencement fait que la fonction renvoie des coefficients différents."
      ]
    }
  ]
}